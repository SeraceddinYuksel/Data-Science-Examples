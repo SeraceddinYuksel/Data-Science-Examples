{
 "cells": [
  {
   "cell_type": "code",
   "execution_count": 1,
   "id": "7e222c78",
   "metadata": {
    "_cell_guid": "b1076dfc-b9ad-4769-8c92-a6c4dae69d19",
    "_uuid": "8f2839f25d086af736a60e9eeb907d3b93b6e0e5",
    "execution": {
     "iopub.execute_input": "2024-12-20T14:03:24.817470Z",
     "iopub.status.busy": "2024-12-20T14:03:24.817075Z",
     "iopub.status.idle": "2024-12-20T14:03:27.643506Z",
     "shell.execute_reply": "2024-12-20T14:03:27.642126Z"
    },
    "papermill": {
     "duration": 2.844168,
     "end_time": "2024-12-20T14:03:27.645513",
     "exception": false,
     "start_time": "2024-12-20T14:03:24.801345",
     "status": "completed"
    },
    "tags": []
   },
   "outputs": [
    {
     "name": "stdout",
     "output_type": "stream",
     "text": [
      "/kaggle/input/pima-india/diabetes.csv\n"
     ]
    }
   ],
   "source": [
    "\n",
    "import numpy as np \n",
    "import pandas as pd \n",
    "import matplotlib.pyplot as plt\n",
    "import seaborn as sns\n",
    "from sklearn.metrics import accuracy_score, precision_score, recall_score, f1_score,roc_auc_score\n",
    "from sklearn.model_selection import train_test_split\n",
    "from sklearn.preprocessing import LabelEncoder\n",
    "from sklearn.ensemble import RandomForestClassifier\n",
    "from sklearn.preprocessing import StandardScaler\n",
    "\n",
    "import warnings\n",
    "warnings.simplefilter(action=\"ignore\")\n",
    "import os\n",
    "for dirname, _, filenames in os.walk('/kaggle/input'):\n",
    "    for filename in filenames:\n",
    "        print(os.path.join(dirname, filename))\n"
   ]
  },
  {
   "cell_type": "code",
   "execution_count": 2,
   "id": "47f781be",
   "metadata": {
    "execution": {
     "iopub.execute_input": "2024-12-20T14:03:27.675136Z",
     "iopub.status.busy": "2024-12-20T14:03:27.674568Z",
     "iopub.status.idle": "2024-12-20T14:03:27.680047Z",
     "shell.execute_reply": "2024-12-20T14:03:27.678911Z"
    },
    "papermill": {
     "duration": 0.02219,
     "end_time": "2024-12-20T14:03:27.681677",
     "exception": false,
     "start_time": "2024-12-20T14:03:27.659487",
     "status": "completed"
    },
    "tags": []
   },
   "outputs": [],
   "source": [
    "pd.set_option('display.max_columns', None)\n",
    "pd.set_option('display.width', None)\n",
    "pd.set_option('display.max_rows', 20)\n",
    "pd.set_option('display.float_format', lambda x: '%.3f' % x)"
   ]
  },
  {
   "cell_type": "markdown",
   "id": "baddf097",
   "metadata": {
    "papermill": {
     "duration": 0.012919,
     "end_time": "2024-12-20T14:03:27.708816",
     "exception": false,
     "start_time": "2024-12-20T14:03:27.695897",
     "status": "completed"
    },
    "tags": []
   },
   "source": [
    "Exploratory Data Analysis(EDA)"
   ]
  },
  {
   "cell_type": "code",
   "execution_count": 3,
   "id": "2d38b989",
   "metadata": {
    "execution": {
     "iopub.execute_input": "2024-12-20T14:03:27.736797Z",
     "iopub.status.busy": "2024-12-20T14:03:27.736319Z",
     "iopub.status.idle": "2024-12-20T14:03:27.778563Z",
     "shell.execute_reply": "2024-12-20T14:03:27.777478Z"
    },
    "papermill": {
     "duration": 0.058356,
     "end_time": "2024-12-20T14:03:27.780587",
     "exception": false,
     "start_time": "2024-12-20T14:03:27.722231",
     "status": "completed"
    },
    "tags": []
   },
   "outputs": [
    {
     "data": {
      "text/html": [
       "<div>\n",
       "<style scoped>\n",
       "    .dataframe tbody tr th:only-of-type {\n",
       "        vertical-align: middle;\n",
       "    }\n",
       "\n",
       "    .dataframe tbody tr th {\n",
       "        vertical-align: top;\n",
       "    }\n",
       "\n",
       "    .dataframe thead th {\n",
       "        text-align: right;\n",
       "    }\n",
       "</style>\n",
       "<table border=\"1\" class=\"dataframe\">\n",
       "  <thead>\n",
       "    <tr style=\"text-align: right;\">\n",
       "      <th></th>\n",
       "      <th>Pregnancies</th>\n",
       "      <th>Glucose</th>\n",
       "      <th>BloodPressure</th>\n",
       "      <th>SkinThickness</th>\n",
       "      <th>Insulin</th>\n",
       "      <th>BMI</th>\n",
       "      <th>DiabetesPedigreeFunction</th>\n",
       "      <th>Age</th>\n",
       "      <th>Outcome</th>\n",
       "    </tr>\n",
       "  </thead>\n",
       "  <tbody>\n",
       "    <tr>\n",
       "      <th>0</th>\n",
       "      <td>6</td>\n",
       "      <td>148</td>\n",
       "      <td>72</td>\n",
       "      <td>35</td>\n",
       "      <td>0</td>\n",
       "      <td>33.600</td>\n",
       "      <td>0.627</td>\n",
       "      <td>50</td>\n",
       "      <td>1</td>\n",
       "    </tr>\n",
       "    <tr>\n",
       "      <th>1</th>\n",
       "      <td>1</td>\n",
       "      <td>85</td>\n",
       "      <td>66</td>\n",
       "      <td>29</td>\n",
       "      <td>0</td>\n",
       "      <td>26.600</td>\n",
       "      <td>0.351</td>\n",
       "      <td>31</td>\n",
       "      <td>0</td>\n",
       "    </tr>\n",
       "    <tr>\n",
       "      <th>2</th>\n",
       "      <td>8</td>\n",
       "      <td>183</td>\n",
       "      <td>64</td>\n",
       "      <td>0</td>\n",
       "      <td>0</td>\n",
       "      <td>23.300</td>\n",
       "      <td>0.672</td>\n",
       "      <td>32</td>\n",
       "      <td>1</td>\n",
       "    </tr>\n",
       "    <tr>\n",
       "      <th>3</th>\n",
       "      <td>1</td>\n",
       "      <td>89</td>\n",
       "      <td>66</td>\n",
       "      <td>23</td>\n",
       "      <td>94</td>\n",
       "      <td>28.100</td>\n",
       "      <td>0.167</td>\n",
       "      <td>21</td>\n",
       "      <td>0</td>\n",
       "    </tr>\n",
       "    <tr>\n",
       "      <th>4</th>\n",
       "      <td>0</td>\n",
       "      <td>137</td>\n",
       "      <td>40</td>\n",
       "      <td>35</td>\n",
       "      <td>168</td>\n",
       "      <td>43.100</td>\n",
       "      <td>2.288</td>\n",
       "      <td>33</td>\n",
       "      <td>1</td>\n",
       "    </tr>\n",
       "  </tbody>\n",
       "</table>\n",
       "</div>"
      ],
      "text/plain": [
       "   Pregnancies  Glucose  BloodPressure  SkinThickness  Insulin    BMI  \\\n",
       "0            6      148             72             35        0 33.600   \n",
       "1            1       85             66             29        0 26.600   \n",
       "2            8      183             64              0        0 23.300   \n",
       "3            1       89             66             23       94 28.100   \n",
       "4            0      137             40             35      168 43.100   \n",
       "\n",
       "   DiabetesPedigreeFunction  Age  Outcome  \n",
       "0                     0.627   50        1  \n",
       "1                     0.351   31        0  \n",
       "2                     0.672   32        1  \n",
       "3                     0.167   21        0  \n",
       "4                     2.288   33        1  "
      ]
     },
     "execution_count": 3,
     "metadata": {},
     "output_type": "execute_result"
    }
   ],
   "source": [
    "df = pd.read_csv (\"/kaggle/input/pima-india/diabetes.csv\")\n",
    "df.head()"
   ]
  },
  {
   "cell_type": "code",
   "execution_count": 4,
   "id": "c1bc5788",
   "metadata": {
    "execution": {
     "iopub.execute_input": "2024-12-20T14:03:27.809864Z",
     "iopub.status.busy": "2024-12-20T14:03:27.809447Z",
     "iopub.status.idle": "2024-12-20T14:03:27.816955Z",
     "shell.execute_reply": "2024-12-20T14:03:27.815864Z"
    },
    "papermill": {
     "duration": 0.023922,
     "end_time": "2024-12-20T14:03:27.818858",
     "exception": false,
     "start_time": "2024-12-20T14:03:27.794936",
     "status": "completed"
    },
    "tags": []
   },
   "outputs": [
    {
     "data": {
      "text/plain": [
       "Pregnancies                   int64\n",
       "Glucose                       int64\n",
       "BloodPressure                 int64\n",
       "SkinThickness                 int64\n",
       "Insulin                       int64\n",
       "BMI                         float64\n",
       "DiabetesPedigreeFunction    float64\n",
       "Age                           int64\n",
       "Outcome                       int64\n",
       "dtype: object"
      ]
     },
     "execution_count": 4,
     "metadata": {},
     "output_type": "execute_result"
    }
   ],
   "source": [
    "df.dtypes"
   ]
  },
  {
   "cell_type": "code",
   "execution_count": 5,
   "id": "fa76d190",
   "metadata": {
    "execution": {
     "iopub.execute_input": "2024-12-20T14:03:27.848961Z",
     "iopub.status.busy": "2024-12-20T14:03:27.848568Z",
     "iopub.status.idle": "2024-12-20T14:03:27.859603Z",
     "shell.execute_reply": "2024-12-20T14:03:27.858508Z"
    },
    "papermill": {
     "duration": 0.028864,
     "end_time": "2024-12-20T14:03:27.861495",
     "exception": false,
     "start_time": "2024-12-20T14:03:27.832631",
     "status": "completed"
    },
    "tags": []
   },
   "outputs": [
    {
     "data": {
      "text/html": [
       "<div>\n",
       "<style scoped>\n",
       "    .dataframe tbody tr th:only-of-type {\n",
       "        vertical-align: middle;\n",
       "    }\n",
       "\n",
       "    .dataframe tbody tr th {\n",
       "        vertical-align: top;\n",
       "    }\n",
       "\n",
       "    .dataframe thead th {\n",
       "        text-align: right;\n",
       "    }\n",
       "</style>\n",
       "<table border=\"1\" class=\"dataframe\">\n",
       "  <thead>\n",
       "    <tr style=\"text-align: right;\">\n",
       "      <th></th>\n",
       "      <th>Pregnancies</th>\n",
       "      <th>Glucose</th>\n",
       "      <th>BloodPressure</th>\n",
       "      <th>SkinThickness</th>\n",
       "      <th>Insulin</th>\n",
       "      <th>BMI</th>\n",
       "      <th>DiabetesPedigreeFunction</th>\n",
       "      <th>Age</th>\n",
       "      <th>Outcome</th>\n",
       "    </tr>\n",
       "  </thead>\n",
       "  <tbody>\n",
       "    <tr>\n",
       "      <th>763</th>\n",
       "      <td>10</td>\n",
       "      <td>101</td>\n",
       "      <td>76</td>\n",
       "      <td>48</td>\n",
       "      <td>180</td>\n",
       "      <td>32.900</td>\n",
       "      <td>0.171</td>\n",
       "      <td>63</td>\n",
       "      <td>0</td>\n",
       "    </tr>\n",
       "    <tr>\n",
       "      <th>764</th>\n",
       "      <td>2</td>\n",
       "      <td>122</td>\n",
       "      <td>70</td>\n",
       "      <td>27</td>\n",
       "      <td>0</td>\n",
       "      <td>36.800</td>\n",
       "      <td>0.340</td>\n",
       "      <td>27</td>\n",
       "      <td>0</td>\n",
       "    </tr>\n",
       "    <tr>\n",
       "      <th>765</th>\n",
       "      <td>5</td>\n",
       "      <td>121</td>\n",
       "      <td>72</td>\n",
       "      <td>23</td>\n",
       "      <td>112</td>\n",
       "      <td>26.200</td>\n",
       "      <td>0.245</td>\n",
       "      <td>30</td>\n",
       "      <td>0</td>\n",
       "    </tr>\n",
       "    <tr>\n",
       "      <th>766</th>\n",
       "      <td>1</td>\n",
       "      <td>126</td>\n",
       "      <td>60</td>\n",
       "      <td>0</td>\n",
       "      <td>0</td>\n",
       "      <td>30.100</td>\n",
       "      <td>0.349</td>\n",
       "      <td>47</td>\n",
       "      <td>1</td>\n",
       "    </tr>\n",
       "    <tr>\n",
       "      <th>767</th>\n",
       "      <td>1</td>\n",
       "      <td>93</td>\n",
       "      <td>70</td>\n",
       "      <td>31</td>\n",
       "      <td>0</td>\n",
       "      <td>30.400</td>\n",
       "      <td>0.315</td>\n",
       "      <td>23</td>\n",
       "      <td>0</td>\n",
       "    </tr>\n",
       "  </tbody>\n",
       "</table>\n",
       "</div>"
      ],
      "text/plain": [
       "     Pregnancies  Glucose  BloodPressure  SkinThickness  Insulin    BMI  \\\n",
       "763           10      101             76             48      180 32.900   \n",
       "764            2      122             70             27        0 36.800   \n",
       "765            5      121             72             23      112 26.200   \n",
       "766            1      126             60              0        0 30.100   \n",
       "767            1       93             70             31        0 30.400   \n",
       "\n",
       "     DiabetesPedigreeFunction  Age  Outcome  \n",
       "763                     0.171   63        0  \n",
       "764                     0.340   27        0  \n",
       "765                     0.245   30        0  \n",
       "766                     0.349   47        1  \n",
       "767                     0.315   23        0  "
      ]
     },
     "execution_count": 5,
     "metadata": {},
     "output_type": "execute_result"
    }
   ],
   "source": [
    "df.tail()"
   ]
  },
  {
   "cell_type": "code",
   "execution_count": 6,
   "id": "f5114bfb",
   "metadata": {
    "execution": {
     "iopub.execute_input": "2024-12-20T14:03:27.890459Z",
     "iopub.status.busy": "2024-12-20T14:03:27.890078Z",
     "iopub.status.idle": "2024-12-20T14:03:27.900345Z",
     "shell.execute_reply": "2024-12-20T14:03:27.899227Z"
    },
    "papermill": {
     "duration": 0.026658,
     "end_time": "2024-12-20T14:03:27.902208",
     "exception": false,
     "start_time": "2024-12-20T14:03:27.875550",
     "status": "completed"
    },
    "tags": []
   },
   "outputs": [
    {
     "data": {
      "text/plain": [
       "Pregnancies                 0\n",
       "Glucose                     0\n",
       "BloodPressure               0\n",
       "SkinThickness               0\n",
       "Insulin                     0\n",
       "BMI                         0\n",
       "DiabetesPedigreeFunction    0\n",
       "Age                         0\n",
       "Outcome                     0\n",
       "dtype: int64"
      ]
     },
     "execution_count": 6,
     "metadata": {},
     "output_type": "execute_result"
    }
   ],
   "source": [
    "df.isnull().sum()"
   ]
  },
  {
   "cell_type": "code",
   "execution_count": 7,
   "id": "202645e7",
   "metadata": {
    "execution": {
     "iopub.execute_input": "2024-12-20T14:03:27.932066Z",
     "iopub.status.busy": "2024-12-20T14:03:27.931644Z",
     "iopub.status.idle": "2024-12-20T14:03:27.937504Z",
     "shell.execute_reply": "2024-12-20T14:03:27.936418Z"
    },
    "papermill": {
     "duration": 0.023197,
     "end_time": "2024-12-20T14:03:27.939324",
     "exception": false,
     "start_time": "2024-12-20T14:03:27.916127",
     "status": "completed"
    },
    "tags": []
   },
   "outputs": [],
   "source": [
    "def check_df(dataframe, head=5):\n",
    "    print(\"##################### Shape #####################\")\n",
    "    print(dataframe.shape)\n",
    "    print(\"##################### Types #####################\")\n",
    "    print(dataframe.dtypes)\n",
    "    print(\"##################### Head #####################\")\n",
    "    print(dataframe.head(head))\n",
    "    print(\"##################### Tail #####################\")\n",
    "    print(dataframe.tail(head))\n",
    "    print(\"##################### NA #####################\")\n",
    "    print(dataframe.isnull().sum())\n",
    "    print(\"##################### Quantiles #####################\")\n",
    "    print(dataframe.quantile([0, 0.05, 0.50, 0.95, 0.99, 1]).T)\n"
   ]
  },
  {
   "cell_type": "code",
   "execution_count": 8,
   "id": "1db944c0",
   "metadata": {
    "execution": {
     "iopub.execute_input": "2024-12-20T14:03:27.968560Z",
     "iopub.status.busy": "2024-12-20T14:03:27.968156Z",
     "iopub.status.idle": "2024-12-20T14:03:27.991110Z",
     "shell.execute_reply": "2024-12-20T14:03:27.989737Z"
    },
    "papermill": {
     "duration": 0.039908,
     "end_time": "2024-12-20T14:03:27.993254",
     "exception": false,
     "start_time": "2024-12-20T14:03:27.953346",
     "status": "completed"
    },
    "tags": []
   },
   "outputs": [
    {
     "name": "stdout",
     "output_type": "stream",
     "text": [
      "##################### Shape #####################\n",
      "(768, 9)\n",
      "##################### Types #####################\n",
      "Pregnancies                   int64\n",
      "Glucose                       int64\n",
      "BloodPressure                 int64\n",
      "SkinThickness                 int64\n",
      "Insulin                       int64\n",
      "BMI                         float64\n",
      "DiabetesPedigreeFunction    float64\n",
      "Age                           int64\n",
      "Outcome                       int64\n",
      "dtype: object\n",
      "##################### Head #####################\n",
      "   Pregnancies  Glucose  BloodPressure  SkinThickness  Insulin    BMI  \\\n",
      "0            6      148             72             35        0 33.600   \n",
      "1            1       85             66             29        0 26.600   \n",
      "2            8      183             64              0        0 23.300   \n",
      "3            1       89             66             23       94 28.100   \n",
      "4            0      137             40             35      168 43.100   \n",
      "\n",
      "   DiabetesPedigreeFunction  Age  Outcome  \n",
      "0                     0.627   50        1  \n",
      "1                     0.351   31        0  \n",
      "2                     0.672   32        1  \n",
      "3                     0.167   21        0  \n",
      "4                     2.288   33        1  \n",
      "##################### Tail #####################\n",
      "     Pregnancies  Glucose  BloodPressure  SkinThickness  Insulin    BMI  \\\n",
      "763           10      101             76             48      180 32.900   \n",
      "764            2      122             70             27        0 36.800   \n",
      "765            5      121             72             23      112 26.200   \n",
      "766            1      126             60              0        0 30.100   \n",
      "767            1       93             70             31        0 30.400   \n",
      "\n",
      "     DiabetesPedigreeFunction  Age  Outcome  \n",
      "763                     0.171   63        0  \n",
      "764                     0.340   27        0  \n",
      "765                     0.245   30        0  \n",
      "766                     0.349   47        1  \n",
      "767                     0.315   23        0  \n",
      "##################### NA #####################\n",
      "Pregnancies                 0\n",
      "Glucose                     0\n",
      "BloodPressure               0\n",
      "SkinThickness               0\n",
      "Insulin                     0\n",
      "BMI                         0\n",
      "DiabetesPedigreeFunction    0\n",
      "Age                         0\n",
      "Outcome                     0\n",
      "dtype: int64\n",
      "##################### Quantiles #####################\n",
      "                          0.000  0.050   0.500   0.950   0.990   1.000\n",
      "Pregnancies               0.000  0.000   3.000  10.000  13.000  17.000\n",
      "Glucose                   0.000 79.000 117.000 181.000 196.000 199.000\n",
      "BloodPressure             0.000 38.700  72.000  90.000 106.000 122.000\n",
      "SkinThickness             0.000  0.000  23.000  44.000  51.330  99.000\n",
      "Insulin                   0.000  0.000  30.500 293.000 519.900 846.000\n",
      "BMI                       0.000 21.800  32.000  44.395  50.759  67.100\n",
      "DiabetesPedigreeFunction  0.078  0.140   0.372   1.133   1.698   2.420\n",
      "Age                      21.000 21.000  29.000  58.000  67.000  81.000\n",
      "Outcome                   0.000  0.000   0.000   1.000   1.000   1.000\n"
     ]
    }
   ],
   "source": [
    "check_df(df)\n"
   ]
  },
  {
   "cell_type": "code",
   "execution_count": 9,
   "id": "2151a05a",
   "metadata": {
    "execution": {
     "iopub.execute_input": "2024-12-20T14:03:28.022772Z",
     "iopub.status.busy": "2024-12-20T14:03:28.022368Z",
     "iopub.status.idle": "2024-12-20T14:03:28.029679Z",
     "shell.execute_reply": "2024-12-20T14:03:28.028374Z"
    },
    "papermill": {
     "duration": 0.024159,
     "end_time": "2024-12-20T14:03:28.031539",
     "exception": false,
     "start_time": "2024-12-20T14:03:28.007380",
     "status": "completed"
    },
    "tags": []
   },
   "outputs": [],
   "source": [
    "def grab_col_names(dataframe, cat_th=10, car_th=20):\n",
    "    # cat_cols, cat_but_car\n",
    "    cat_cols = [col for col in dataframe.columns if dataframe[col].dtypes == \"O\"]\n",
    "    num_but_cat = [col for col in dataframe.columns if dataframe[col].nunique() < cat_th and dataframe[col].dtypes != \"O\"]\n",
    "    cat_but_car = [col for col in dataframe.columns if dataframe[col].nunique() > car_th and dataframe[col].dtypes == \"O\"]\n",
    "    cat_cols = cat_cols + num_but_cat\n",
    "    cat_cols = [col for col in cat_cols if col not in cat_but_car]\n",
    "\n",
    "    # num_cols\n",
    "    num_cols = [col for col in dataframe.columns if dataframe[col].dtypes != \"O\"]\n",
    "    num_cols = [col for col in num_cols if col not in num_but_cat]\n",
    "\n",
    "    print(f\"Observations: {dataframe.shape[0]}\")\n",
    "    print(f\"Variables: {dataframe.shape[1]}\")\n",
    "    print(f'cat_cols: {len(cat_cols)}')\n",
    "    print(f'num_cols: {len(num_cols)}')\n",
    "    print(f'cat_but_car: {len(cat_but_car)}')\n",
    "    print(f'num_but_cat: {len(num_but_cat)}')\n",
    "\n",
    "    return cat_cols, num_cols, cat_but_car"
   ]
  },
  {
   "cell_type": "code",
   "execution_count": 10,
   "id": "ecea81b5",
   "metadata": {
    "execution": {
     "iopub.execute_input": "2024-12-20T14:03:28.061363Z",
     "iopub.status.busy": "2024-12-20T14:03:28.060959Z",
     "iopub.status.idle": "2024-12-20T14:03:28.073710Z",
     "shell.execute_reply": "2024-12-20T14:03:28.072252Z"
    },
    "papermill": {
     "duration": 0.029568,
     "end_time": "2024-12-20T14:03:28.075630",
     "exception": false,
     "start_time": "2024-12-20T14:03:28.046062",
     "status": "completed"
    },
    "tags": []
   },
   "outputs": [
    {
     "name": "stdout",
     "output_type": "stream",
     "text": [
      "Observations: 768\n",
      "Variables: 9\n",
      "cat_cols: 1\n",
      "num_cols: 8\n",
      "cat_but_car: 0\n",
      "num_but_cat: 1\n"
     ]
    }
   ],
   "source": [
    "cat_cols, num_cols, cat_but_car = grab_col_names(df)"
   ]
  },
  {
   "cell_type": "code",
   "execution_count": 11,
   "id": "39a79088",
   "metadata": {
    "execution": {
     "iopub.execute_input": "2024-12-20T14:03:28.105832Z",
     "iopub.status.busy": "2024-12-20T14:03:28.105438Z",
     "iopub.status.idle": "2024-12-20T14:03:28.111667Z",
     "shell.execute_reply": "2024-12-20T14:03:28.110409Z"
    },
    "papermill": {
     "duration": 0.023384,
     "end_time": "2024-12-20T14:03:28.113385",
     "exception": false,
     "start_time": "2024-12-20T14:03:28.090001",
     "status": "completed"
    },
    "tags": []
   },
   "outputs": [
    {
     "data": {
      "text/plain": [
       "['Outcome']"
      ]
     },
     "execution_count": 11,
     "metadata": {},
     "output_type": "execute_result"
    }
   ],
   "source": [
    "cat_cols\n"
   ]
  },
  {
   "cell_type": "code",
   "execution_count": 12,
   "id": "c5c0becc",
   "metadata": {
    "execution": {
     "iopub.execute_input": "2024-12-20T14:03:28.143207Z",
     "iopub.status.busy": "2024-12-20T14:03:28.142836Z",
     "iopub.status.idle": "2024-12-20T14:03:28.148780Z",
     "shell.execute_reply": "2024-12-20T14:03:28.147870Z"
    },
    "papermill": {
     "duration": 0.022949,
     "end_time": "2024-12-20T14:03:28.150573",
     "exception": false,
     "start_time": "2024-12-20T14:03:28.127624",
     "status": "completed"
    },
    "tags": []
   },
   "outputs": [
    {
     "data": {
      "text/plain": [
       "['Pregnancies',\n",
       " 'Glucose',\n",
       " 'BloodPressure',\n",
       " 'SkinThickness',\n",
       " 'Insulin',\n",
       " 'BMI',\n",
       " 'DiabetesPedigreeFunction',\n",
       " 'Age']"
      ]
     },
     "execution_count": 12,
     "metadata": {},
     "output_type": "execute_result"
    }
   ],
   "source": [
    "num_cols"
   ]
  },
  {
   "cell_type": "code",
   "execution_count": 13,
   "id": "b678e786",
   "metadata": {
    "execution": {
     "iopub.execute_input": "2024-12-20T14:03:28.181433Z",
     "iopub.status.busy": "2024-12-20T14:03:28.181086Z",
     "iopub.status.idle": "2024-12-20T14:03:28.187123Z",
     "shell.execute_reply": "2024-12-20T14:03:28.185989Z"
    },
    "papermill": {
     "duration": 0.02358,
     "end_time": "2024-12-20T14:03:28.189036",
     "exception": false,
     "start_time": "2024-12-20T14:03:28.165456",
     "status": "completed"
    },
    "tags": []
   },
   "outputs": [
    {
     "data": {
      "text/plain": [
       "[]"
      ]
     },
     "execution_count": 13,
     "metadata": {},
     "output_type": "execute_result"
    }
   ],
   "source": [
    "cat_but_car"
   ]
  },
  {
   "cell_type": "code",
   "execution_count": 14,
   "id": "b4df301f",
   "metadata": {
    "execution": {
     "iopub.execute_input": "2024-12-20T14:03:28.220115Z",
     "iopub.status.busy": "2024-12-20T14:03:28.219723Z",
     "iopub.status.idle": "2024-12-20T14:03:28.225237Z",
     "shell.execute_reply": "2024-12-20T14:03:28.224081Z"
    },
    "papermill": {
     "duration": 0.023397,
     "end_time": "2024-12-20T14:03:28.226992",
     "exception": false,
     "start_time": "2024-12-20T14:03:28.203595",
     "status": "completed"
    },
    "tags": []
   },
   "outputs": [],
   "source": [
    "def cat_summary(dataframe, col_name, plot=False):\n",
    "    print(pd.DataFrame({col_name: dataframe[col_name].value_counts(),\n",
    "                        \"Ratio\": 100 * dataframe[col_name].value_counts() / len(dataframe)}))\n",
    "    print(\"##########################################\")\n",
    "    if plot:\n",
    "        sns.countplot(x=dataframe[col_name], data=dataframe)\n",
    "        plt.show()"
   ]
  },
  {
   "cell_type": "code",
   "execution_count": 15,
   "id": "afe2dfb3",
   "metadata": {
    "execution": {
     "iopub.execute_input": "2024-12-20T14:03:28.256998Z",
     "iopub.status.busy": "2024-12-20T14:03:28.256569Z",
     "iopub.status.idle": "2024-12-20T14:03:28.269409Z",
     "shell.execute_reply": "2024-12-20T14:03:28.268242Z"
    },
    "papermill": {
     "duration": 0.029505,
     "end_time": "2024-12-20T14:03:28.271093",
     "exception": false,
     "start_time": "2024-12-20T14:03:28.241588",
     "status": "completed"
    },
    "tags": []
   },
   "outputs": [
    {
     "name": "stdout",
     "output_type": "stream",
     "text": [
      "         Outcome  Ratio\n",
      "Outcome                \n",
      "0            500 65.104\n",
      "1            268 34.896\n",
      "##########################################\n"
     ]
    }
   ],
   "source": [
    "cat_summary(df, \"Outcome\")"
   ]
  },
  {
   "cell_type": "code",
   "execution_count": 16,
   "id": "034e711d",
   "metadata": {
    "execution": {
     "iopub.execute_input": "2024-12-20T14:03:28.302285Z",
     "iopub.status.busy": "2024-12-20T14:03:28.301906Z",
     "iopub.status.idle": "2024-12-20T14:03:28.307376Z",
     "shell.execute_reply": "2024-12-20T14:03:28.306217Z"
    },
    "papermill": {
     "duration": 0.022848,
     "end_time": "2024-12-20T14:03:28.309178",
     "exception": false,
     "start_time": "2024-12-20T14:03:28.286330",
     "status": "completed"
    },
    "tags": []
   },
   "outputs": [],
   "source": [
    "def num_summary(dataframe, numerical_col, plot=False):\n",
    "    quantiles = [0.05, 0.10, 0.20, 0.30, 0.40, 0.50, 0.60, 0.70, 0.80, 0.90, 0.95, 0.99]\n",
    "    print(dataframe[numerical_col].describe(quantiles).T)\n",
    "\n",
    "    if plot:\n",
    "        dataframe[numerical_col].hist(bins=20)\n",
    "        plt.xlabel(numerical_col)\n",
    "        plt.title(numerical_col)\n",
    "        plt.show()"
   ]
  },
  {
   "cell_type": "code",
   "execution_count": 17,
   "id": "7be5e4f9",
   "metadata": {
    "execution": {
     "iopub.execute_input": "2024-12-20T14:03:28.339514Z",
     "iopub.status.busy": "2024-12-20T14:03:28.339151Z",
     "iopub.status.idle": "2024-12-20T14:03:30.732200Z",
     "shell.execute_reply": "2024-12-20T14:03:30.730179Z"
    },
    "papermill": {
     "duration": 2.410972,
     "end_time": "2024-12-20T14:03:30.734613",
     "exception": false,
     "start_time": "2024-12-20T14:03:28.323641",
     "status": "completed"
    },
    "tags": []
   },
   "outputs": [
    {
     "name": "stdout",
     "output_type": "stream",
     "text": [
      "count   768.000\n",
      "mean      3.845\n",
      "std       3.370\n",
      "min       0.000\n",
      "5%        0.000\n",
      "10%       0.000\n",
      "20%       1.000\n",
      "30%       1.000\n",
      "40%       2.000\n",
      "50%       3.000\n",
      "60%       4.000\n",
      "70%       5.000\n",
      "80%       7.000\n",
      "90%       9.000\n",
      "95%      10.000\n",
      "99%      13.000\n",
      "max      17.000\n",
      "Name: Pregnancies, dtype: float64\n"
     ]
    },
    {
     "data": {
      "image/png": "[encoded data removed]",
      "text/plain": [
       "<Figure size 640x480 with 1 Axes>"
      ]
     },
     "metadata": {},
     "output_type": "display_data"
    },
    {
     "name": "stdout",
     "output_type": "stream",
     "text": [
      "count   768.000\n",
      "mean    120.895\n",
      "std      31.973\n",
      "min       0.000\n",
      "5%       79.000\n",
      "10%      85.000\n",
      "20%      95.000\n",
      "30%     102.000\n",
      "40%     109.000\n",
      "50%     117.000\n",
      "60%     125.000\n",
      "70%     134.000\n",
      "80%     147.000\n",
      "90%     167.000\n",
      "95%     181.000\n",
      "99%     196.000\n",
      "max     199.000\n",
      "Name: Glucose, dtype: float64\n"
     ]
    },
    {
     "data": {
      "image/png": "[encoded data removed]",
      "text/plain": [
       "<Figure size 640x480 with 1 Axes>"
      ]
     },
     "metadata": {},
     "output_type": "display_data"
    },
    {
     "name": "stdout",
     "output_type": "stream",
     "text": [
      "count   768.000\n",
      "mean     69.105\n",
      "std      19.356\n",
      "min       0.000\n",
      "5%       38.700\n",
      "10%      54.000\n",
      "20%      60.000\n",
      "30%      64.000\n",
      "40%      68.000\n",
      "50%      72.000\n",
      "60%      74.000\n",
      "70%      78.000\n",
      "80%      82.000\n",
      "90%      88.000\n",
      "95%      90.000\n",
      "99%     106.000\n",
      "max     122.000\n",
      "Name: BloodPressure, dtype: float64\n"
     ]
    },
    {
     "data": {
      "image/png": "[encoded data removed]",
      "text/plain": [
       "<Figure size 640x480 with 1 Axes>"
      ]
     },
     "metadata": {},
     "output_type": "display_data"
    },
    {
     "name": "stdout",
     "output_type": "stream",
     "text": [
      "count   768.000\n",
      "mean     20.536\n",
      "std      15.952\n",
      "min       0.000\n",
      "5%        0.000\n",
      "10%       0.000\n",
      "20%       0.000\n",
      "30%       8.200\n",
      "40%      18.000\n",
      "50%      23.000\n",
      "60%      27.000\n",
      "70%      31.000\n",
      "80%      35.000\n",
      "90%      40.000\n",
      "95%      44.000\n",
      "99%      51.330\n",
      "max      99.000\n",
      "Name: SkinThickness, dtype: float64\n"
     ]
    },
    {
     "data": {
      "image/png": "[encoded data removed]",
      "text/plain": [
       "<Figure size 640x480 with 1 Axes>"
      ]
     },
     "metadata": {},
     "output_type": "display_data"
    },
    {
     "name": "stdout",
     "output_type": "stream",
     "text": [
      "count   768.000\n",
      "mean     79.799\n",
      "std     115.244\n",
      "min       0.000\n",
      "5%        0.000\n",
      "10%       0.000\n",
      "20%       0.000\n",
      "30%       0.000\n",
      "40%       0.000\n",
      "50%      30.500\n",
      "60%      72.200\n",
      "70%     106.000\n",
      "80%     150.000\n",
      "90%     210.000\n",
      "95%     293.000\n",
      "99%     519.900\n",
      "max     846.000\n",
      "Name: Insulin, dtype: float64\n"
     ]
    },
    {
     "data": {
      "image/png": "[encoded data removed]",
      "text/plain": [
       "<Figure size 640x480 with 1 Axes>"
      ]
     },
     "metadata": {},
     "output_type": "display_data"
    },
    {
     "name": "stdout",
     "output_type": "stream",
     "text": [
      "count   768.000\n",
      "mean     31.993\n",
      "std       7.884\n",
      "min       0.000\n",
      "5%       21.800\n",
      "10%      23.600\n",
      "20%      25.900\n",
      "30%      28.200\n",
      "40%      30.100\n",
      "50%      32.000\n",
      "60%      33.700\n",
      "70%      35.490\n",
      "80%      37.800\n",
      "90%      41.500\n",
      "95%      44.395\n",
      "99%      50.759\n",
      "max      67.100\n",
      "Name: BMI, dtype: float64\n"
     ]
    },
    {
     "data": {
      "image/png": "[encoded data removed]",
      "text/plain": [
       "<Figure size 640x480 with 1 Axes>"
      ]
     },
     "metadata": {},
     "output_type": "display_data"
    },
    {
     "name": "stdout",
     "output_type": "stream",
     "text": [
      "count   768.000\n",
      "mean      0.472\n",
      "std       0.331\n",
      "min       0.078\n",
      "5%        0.140\n",
      "10%       0.165\n",
      "20%       0.219\n",
      "30%       0.259\n",
      "40%       0.303\n",
      "50%       0.372\n",
      "60%       0.454\n",
      "70%       0.564\n",
      "80%       0.687\n",
      "90%       0.879\n",
      "95%       1.133\n",
      "99%       1.698\n",
      "max       2.420\n",
      "Name: DiabetesPedigreeFunction, dtype: float64\n"
     ]
    },
    {
     "data": {
      "image/png": "[encoded data removed]",
      "text/plain": [
       "<Figure size 640x480 with 1 Axes>"
      ]
     },
     "metadata": {},
     "output_type": "display_data"
    },
    {
     "name": "stdout",
     "output_type": "stream",
     "text": [
      "count   768.000\n",
      "mean     33.241\n",
      "std      11.760\n",
      "min      21.000\n",
      "5%       21.000\n",
      "10%      22.000\n",
      "20%      23.000\n",
      "30%      25.000\n",
      "40%      27.000\n",
      "50%      29.000\n",
      "60%      33.000\n",
      "70%      38.000\n",
      "80%      42.600\n",
      "90%      51.000\n",
      "95%      58.000\n",
      "99%      67.000\n",
      "max      81.000\n",
      "Name: Age, dtype: float64\n"
     ]
    },
    {
     "data": {
      "image/png": "[encoded data removed]",
      "text/plain": [
       "<Figure size 640x480 with 1 Axes>"
      ]
     },
     "metadata": {},
     "output_type": "display_data"
    }
   ],
   "source": [
    "for col in num_cols:\n",
    "    num_summary(df, col, plot=True)"
   ]
  },
  {
   "cell_type": "code",
   "execution_count": 18,
   "id": "c699817f",
   "metadata": {
    "execution": {
     "iopub.execute_input": "2024-12-20T14:03:30.786040Z",
     "iopub.status.busy": "2024-12-20T14:03:30.785632Z",
     "iopub.status.idle": "2024-12-20T14:03:30.790351Z",
     "shell.execute_reply": "2024-12-20T14:03:30.789335Z"
    },
    "papermill": {
     "duration": 0.027597,
     "end_time": "2024-12-20T14:03:30.792430",
     "exception": false,
     "start_time": "2024-12-20T14:03:30.764833",
     "status": "completed"
    },
    "tags": []
   },
   "outputs": [],
   "source": [
    "def target_summary_with_num(dataframe, target, numerical_col):\n",
    "    print(dataframe.groupby(target).agg({numerical_col: \"mean\"}), end=\"\\n\\n\\n\")"
   ]
  },
  {
   "cell_type": "code",
   "execution_count": 19,
   "id": "a65ff8f6",
   "metadata": {
    "execution": {
     "iopub.execute_input": "2024-12-20T14:03:30.830801Z",
     "iopub.status.busy": "2024-12-20T14:03:30.830360Z",
     "iopub.status.idle": "2024-12-20T14:03:30.869993Z",
     "shell.execute_reply": "2024-12-20T14:03:30.868566Z"
    },
    "papermill": {
     "duration": 0.061151,
     "end_time": "2024-12-20T14:03:30.871926",
     "exception": false,
     "start_time": "2024-12-20T14:03:30.810775",
     "status": "completed"
    },
    "tags": []
   },
   "outputs": [
    {
     "name": "stdout",
     "output_type": "stream",
     "text": [
      "         Pregnancies\n",
      "Outcome             \n",
      "0              3.298\n",
      "1              4.866\n",
      "\n",
      "\n",
      "         Glucose\n",
      "Outcome         \n",
      "0        109.980\n",
      "1        141.257\n",
      "\n",
      "\n",
      "         BloodPressure\n",
      "Outcome               \n",
      "0               68.184\n",
      "1               70.825\n",
      "\n",
      "\n",
      "         SkinThickness\n",
      "Outcome               \n",
      "0               19.664\n",
      "1               22.164\n",
      "\n",
      "\n",
      "         Insulin\n",
      "Outcome         \n",
      "0         68.792\n",
      "1        100.336\n",
      "\n",
      "\n",
      "           BMI\n",
      "Outcome       \n",
      "0       30.304\n",
      "1       35.143\n",
      "\n",
      "\n",
      "         DiabetesPedigreeFunction\n",
      "Outcome                          \n",
      "0                           0.430\n",
      "1                           0.550\n",
      "\n",
      "\n",
      "           Age\n",
      "Outcome       \n",
      "0       31.190\n",
      "1       37.067\n",
      "\n",
      "\n"
     ]
    }
   ],
   "source": [
    "for col in num_cols:\n",
    "    target_summary_with_num(df, \"Outcome\", col)"
   ]
  },
  {
   "cell_type": "code",
   "execution_count": 20,
   "id": "06831a27",
   "metadata": {
    "execution": {
     "iopub.execute_input": "2024-12-20T14:03:30.909946Z",
     "iopub.status.busy": "2024-12-20T14:03:30.909558Z",
     "iopub.status.idle": "2024-12-20T14:03:30.924845Z",
     "shell.execute_reply": "2024-12-20T14:03:30.923582Z"
    },
    "papermill": {
     "duration": 0.036555,
     "end_time": "2024-12-20T14:03:30.926818",
     "exception": false,
     "start_time": "2024-12-20T14:03:30.890263",
     "status": "completed"
    },
    "tags": []
   },
   "outputs": [
    {
     "data": {
      "text/html": [
       "<div>\n",
       "<style scoped>\n",
       "    .dataframe tbody tr th:only-of-type {\n",
       "        vertical-align: middle;\n",
       "    }\n",
       "\n",
       "    .dataframe tbody tr th {\n",
       "        vertical-align: top;\n",
       "    }\n",
       "\n",
       "    .dataframe thead th {\n",
       "        text-align: right;\n",
       "    }\n",
       "</style>\n",
       "<table border=\"1\" class=\"dataframe\">\n",
       "  <thead>\n",
       "    <tr style=\"text-align: right;\">\n",
       "      <th></th>\n",
       "      <th>Pregnancies</th>\n",
       "      <th>Glucose</th>\n",
       "      <th>BloodPressure</th>\n",
       "      <th>SkinThickness</th>\n",
       "      <th>Insulin</th>\n",
       "      <th>BMI</th>\n",
       "      <th>DiabetesPedigreeFunction</th>\n",
       "      <th>Age</th>\n",
       "      <th>Outcome</th>\n",
       "    </tr>\n",
       "  </thead>\n",
       "  <tbody>\n",
       "    <tr>\n",
       "      <th>Pregnancies</th>\n",
       "      <td>1.000</td>\n",
       "      <td>0.129</td>\n",
       "      <td>0.141</td>\n",
       "      <td>-0.082</td>\n",
       "      <td>-0.074</td>\n",
       "      <td>0.018</td>\n",
       "      <td>-0.034</td>\n",
       "      <td>0.544</td>\n",
       "      <td>0.222</td>\n",
       "    </tr>\n",
       "    <tr>\n",
       "      <th>Glucose</th>\n",
       "      <td>0.129</td>\n",
       "      <td>1.000</td>\n",
       "      <td>0.153</td>\n",
       "      <td>0.057</td>\n",
       "      <td>0.331</td>\n",
       "      <td>0.221</td>\n",
       "      <td>0.137</td>\n",
       "      <td>0.264</td>\n",
       "      <td>0.467</td>\n",
       "    </tr>\n",
       "    <tr>\n",
       "      <th>BloodPressure</th>\n",
       "      <td>0.141</td>\n",
       "      <td>0.153</td>\n",
       "      <td>1.000</td>\n",
       "      <td>0.207</td>\n",
       "      <td>0.089</td>\n",
       "      <td>0.282</td>\n",
       "      <td>0.041</td>\n",
       "      <td>0.240</td>\n",
       "      <td>0.065</td>\n",
       "    </tr>\n",
       "    <tr>\n",
       "      <th>SkinThickness</th>\n",
       "      <td>-0.082</td>\n",
       "      <td>0.057</td>\n",
       "      <td>0.207</td>\n",
       "      <td>1.000</td>\n",
       "      <td>0.437</td>\n",
       "      <td>0.393</td>\n",
       "      <td>0.184</td>\n",
       "      <td>-0.114</td>\n",
       "      <td>0.075</td>\n",
       "    </tr>\n",
       "    <tr>\n",
       "      <th>Insulin</th>\n",
       "      <td>-0.074</td>\n",
       "      <td>0.331</td>\n",
       "      <td>0.089</td>\n",
       "      <td>0.437</td>\n",
       "      <td>1.000</td>\n",
       "      <td>0.198</td>\n",
       "      <td>0.185</td>\n",
       "      <td>-0.042</td>\n",
       "      <td>0.131</td>\n",
       "    </tr>\n",
       "    <tr>\n",
       "      <th>BMI</th>\n",
       "      <td>0.018</td>\n",
       "      <td>0.221</td>\n",
       "      <td>0.282</td>\n",
       "      <td>0.393</td>\n",
       "      <td>0.198</td>\n",
       "      <td>1.000</td>\n",
       "      <td>0.141</td>\n",
       "      <td>0.036</td>\n",
       "      <td>0.293</td>\n",
       "    </tr>\n",
       "    <tr>\n",
       "      <th>DiabetesPedigreeFunction</th>\n",
       "      <td>-0.034</td>\n",
       "      <td>0.137</td>\n",
       "      <td>0.041</td>\n",
       "      <td>0.184</td>\n",
       "      <td>0.185</td>\n",
       "      <td>0.141</td>\n",
       "      <td>1.000</td>\n",
       "      <td>0.034</td>\n",
       "      <td>0.174</td>\n",
       "    </tr>\n",
       "    <tr>\n",
       "      <th>Age</th>\n",
       "      <td>0.544</td>\n",
       "      <td>0.264</td>\n",
       "      <td>0.240</td>\n",
       "      <td>-0.114</td>\n",
       "      <td>-0.042</td>\n",
       "      <td>0.036</td>\n",
       "      <td>0.034</td>\n",
       "      <td>1.000</td>\n",
       "      <td>0.238</td>\n",
       "    </tr>\n",
       "    <tr>\n",
       "      <th>Outcome</th>\n",
       "      <td>0.222</td>\n",
       "      <td>0.467</td>\n",
       "      <td>0.065</td>\n",
       "      <td>0.075</td>\n",
       "      <td>0.131</td>\n",
       "      <td>0.293</td>\n",
       "      <td>0.174</td>\n",
       "      <td>0.238</td>\n",
       "      <td>1.000</td>\n",
       "    </tr>\n",
       "  </tbody>\n",
       "</table>\n",
       "</div>"
      ],
      "text/plain": [
       "                          Pregnancies  Glucose  BloodPressure  SkinThickness  \\\n",
       "Pregnancies                     1.000    0.129          0.141         -0.082   \n",
       "Glucose                         0.129    1.000          0.153          0.057   \n",
       "BloodPressure                   0.141    0.153          1.000          0.207   \n",
       "SkinThickness                  -0.082    0.057          0.207          1.000   \n",
       "Insulin                        -0.074    0.331          0.089          0.437   \n",
       "BMI                             0.018    0.221          0.282          0.393   \n",
       "DiabetesPedigreeFunction       -0.034    0.137          0.041          0.184   \n",
       "Age                             0.544    0.264          0.240         -0.114   \n",
       "Outcome                         0.222    0.467          0.065          0.075   \n",
       "\n",
       "                          Insulin   BMI  DiabetesPedigreeFunction    Age  \\\n",
       "Pregnancies                -0.074 0.018                    -0.034  0.544   \n",
       "Glucose                     0.331 0.221                     0.137  0.264   \n",
       "BloodPressure               0.089 0.282                     0.041  0.240   \n",
       "SkinThickness               0.437 0.393                     0.184 -0.114   \n",
       "Insulin                     1.000 0.198                     0.185 -0.042   \n",
       "BMI                         0.198 1.000                     0.141  0.036   \n",
       "DiabetesPedigreeFunction    0.185 0.141                     1.000  0.034   \n",
       "Age                        -0.042 0.036                     0.034  1.000   \n",
       "Outcome                     0.131 0.293                     0.174  0.238   \n",
       "\n",
       "                          Outcome  \n",
       "Pregnancies                 0.222  \n",
       "Glucose                     0.467  \n",
       "BloodPressure               0.065  \n",
       "SkinThickness               0.075  \n",
       "Insulin                     0.131  \n",
       "BMI                         0.293  \n",
       "DiabetesPedigreeFunction    0.174  \n",
       "Age                         0.238  \n",
       "Outcome                     1.000  "
      ]
     },
     "execution_count": 20,
     "metadata": {},
     "output_type": "execute_result"
    }
   ],
   "source": [
    "df.corr()"
   ]
  },
  {
   "cell_type": "code",
   "execution_count": 21,
   "id": "cd1445d2",
   "metadata": {
    "execution": {
     "iopub.execute_input": "2024-12-20T14:03:30.964864Z",
     "iopub.status.busy": "2024-12-20T14:03:30.964434Z",
     "iopub.status.idle": "2024-12-20T14:03:31.506114Z",
     "shell.execute_reply": "2024-12-20T14:03:31.504793Z"
    },
    "papermill": {
     "duration": 0.563538,
     "end_time": "2024-12-20T14:03:31.508713",
     "exception": false,
     "start_time": "2024-12-20T14:03:30.945175",
     "status": "completed"
    },
    "tags": []
   },
   "outputs": [
    {
     "data": {
      "image/png": "[encoded data removed]",
      "text/plain": [
       "<Figure size 1800x1300 with 2 Axes>"
      ]
     },
     "metadata": {},
     "output_type": "display_data"
    }
   ],
   "source": [
    "f, ax = plt.subplots(figsize=[18, 13])\n",
    "sns.heatmap(df.corr(), annot=True, fmt=\".2f\", ax=ax, cmap=\"magma\")\n",
    "ax.set_title(\"Correlation Matrix\", fontsize=20)\n",
    "plt.show()"
   ]
  },
  {
   "cell_type": "markdown",
   "id": "42dced11",
   "metadata": {
    "papermill": {
     "duration": 0.020195,
     "end_time": "2024-12-20T14:03:31.549778",
     "exception": false,
     "start_time": "2024-12-20T14:03:31.529583",
     "status": "completed"
    },
    "tags": []
   },
   "source": [
    "BASE MODEL"
   ]
  },
  {
   "cell_type": "code",
   "execution_count": 22,
   "id": "d0c1723e",
   "metadata": {
    "execution": {
     "iopub.execute_input": "2024-12-20T14:03:31.593100Z",
     "iopub.status.busy": "2024-12-20T14:03:31.592739Z",
     "iopub.status.idle": "2024-12-20T14:03:31.603880Z",
     "shell.execute_reply": "2024-12-20T14:03:31.602867Z"
    },
    "papermill": {
     "duration": 0.035072,
     "end_time": "2024-12-20T14:03:31.606024",
     "exception": false,
     "start_time": "2024-12-20T14:03:31.570952",
     "status": "completed"
    },
    "tags": []
   },
   "outputs": [],
   "source": [
    "y = df[\"Outcome\"]\n",
    "X = df.drop(\"Outcome\", axis=1)\n",
    "X_train, X_test, y_train, y_test = train_test_split(X, y, test_size=0.30, random_state=17)"
   ]
  },
  {
   "cell_type": "code",
   "execution_count": 23,
   "id": "ea2ea713",
   "metadata": {
    "execution": {
     "iopub.execute_input": "2024-12-20T14:03:31.651380Z",
     "iopub.status.busy": "2024-12-20T14:03:31.651018Z",
     "iopub.status.idle": "2024-12-20T14:03:31.862914Z",
     "shell.execute_reply": "2024-12-20T14:03:31.861900Z"
    },
    "papermill": {
     "duration": 0.237719,
     "end_time": "2024-12-20T14:03:31.865237",
     "exception": false,
     "start_time": "2024-12-20T14:03:31.627518",
     "status": "completed"
    },
    "tags": []
   },
   "outputs": [],
   "source": [
    "rf_model = RandomForestClassifier(random_state=46).fit(X_train, y_train)\n",
    "y_pred = rf_model.predict(X_test)\n"
   ]
  },
  {
   "cell_type": "code",
   "execution_count": 24,
   "id": "b326fda7",
   "metadata": {
    "execution": {
     "iopub.execute_input": "2024-12-20T14:03:31.908074Z",
     "iopub.status.busy": "2024-12-20T14:03:31.907678Z",
     "iopub.status.idle": "2024-12-20T14:03:31.928112Z",
     "shell.execute_reply": "2024-12-20T14:03:31.926978Z"
    },
    "papermill": {
     "duration": 0.044023,
     "end_time": "2024-12-20T14:03:31.929982",
     "exception": false,
     "start_time": "2024-12-20T14:03:31.885959",
     "status": "completed"
    },
    "tags": []
   },
   "outputs": [
    {
     "name": "stdout",
     "output_type": "stream",
     "text": [
      "Accuracy: 0.77\n",
      "Recall: 0.706\n",
      "Precision: 0.59\n",
      "F1: 0.64\n",
      "Auc: 0.75\n"
     ]
    }
   ],
   "source": [
    "print(f\"Accuracy: {round(accuracy_score(y_pred, y_test), 2)}\")\n",
    "print(f\"Recall: {round(recall_score(y_pred,y_test),3)}\")\n",
    "print(f\"Precision: {round(precision_score(y_pred,y_test), 2)}\")\n",
    "print(f\"F1: {round(f1_score(y_pred,y_test), 2)}\")\n",
    "print(f\"Auc: {round(roc_auc_score(y_pred,y_test), 2)}\")"
   ]
  },
  {
   "cell_type": "code",
   "execution_count": 25,
   "id": "a675f6f0",
   "metadata": {
    "execution": {
     "iopub.execute_input": "2024-12-20T14:03:31.972631Z",
     "iopub.status.busy": "2024-12-20T14:03:31.972186Z",
     "iopub.status.idle": "2024-12-20T14:03:31.978002Z",
     "shell.execute_reply": "2024-12-20T14:03:31.976919Z"
    },
    "papermill": {
     "duration": 0.029298,
     "end_time": "2024-12-20T14:03:31.979979",
     "exception": false,
     "start_time": "2024-12-20T14:03:31.950681",
     "status": "completed"
    },
    "tags": []
   },
   "outputs": [],
   "source": [
    "def plot_importance(model, features, num=len(X), save=False):\n",
    "    feature_imp = pd.DataFrame({'Value': model.feature_importances_, 'Feature': features.columns})\n",
    "    plt.figure(figsize=(10, 10))\n",
    "    sns.set(font_scale=1)\n",
    "    sns.barplot(x=\"Value\", y=\"Feature\", data=feature_imp.sort_values(by=\"Value\",\n",
    "                                                                     ascending=False)[0:num])\n",
    "    plt.title('Features')\n",
    "    plt.tight_layout()\n",
    "    plt.show()\n",
    "    if save:\n",
    "        plt.savefig('importances.png')"
   ]
  },
  {
   "cell_type": "code",
   "execution_count": 26,
   "id": "23de01ea",
   "metadata": {
    "execution": {
     "iopub.execute_input": "2024-12-20T14:03:32.023756Z",
     "iopub.status.busy": "2024-12-20T14:03:32.023350Z",
     "iopub.status.idle": "2024-12-20T14:03:32.372286Z",
     "shell.execute_reply": "2024-12-20T14:03:32.371016Z"
    },
    "papermill": {
     "duration": 0.373032,
     "end_time": "2024-12-20T14:03:32.374150",
     "exception": false,
     "start_time": "2024-12-20T14:03:32.001118",
     "status": "completed"
    },
    "tags": []
   },
   "outputs": [
    {
     "data": {
      "image/png": "[encoded data removed]",
      "text/plain": [
       "<Figure size 1000x1000 with 1 Axes>"
      ]
     },
     "metadata": {},
     "output_type": "display_data"
    }
   ],
   "source": [
    "plot_importance(rf_model, X)"
   ]
  },
  {
   "cell_type": "markdown",
   "id": "7ae38abd",
   "metadata": {
    "papermill": {
     "duration": 0.022019,
     "end_time": "2024-12-20T14:03:32.417401",
     "exception": false,
     "start_time": "2024-12-20T14:03:32.395382",
     "status": "completed"
    },
    "tags": []
   },
   "source": [
    "FEATURE ENGINEERING"
   ]
  },
  {
   "cell_type": "code",
   "execution_count": 27,
   "id": "58a33c80",
   "metadata": {
    "execution": {
     "iopub.execute_input": "2024-12-20T14:03:32.462917Z",
     "iopub.status.busy": "2024-12-20T14:03:32.462423Z",
     "iopub.status.idle": "2024-12-20T14:03:32.468356Z",
     "shell.execute_reply": "2024-12-20T14:03:32.467202Z"
    },
    "papermill": {
     "duration": 0.029911,
     "end_time": "2024-12-20T14:03:32.470272",
     "exception": false,
     "start_time": "2024-12-20T14:03:32.440361",
     "status": "completed"
    },
    "tags": []
   },
   "outputs": [],
   "source": [
    "zero_columns = [col for col in df.columns if (df[col].min() == 0 and col not in [\"Pregnancies\", \"Outcome\"])]"
   ]
  },
  {
   "cell_type": "code",
   "execution_count": 28,
   "id": "3910a646",
   "metadata": {
    "execution": {
     "iopub.execute_input": "2024-12-20T14:03:32.513831Z",
     "iopub.status.busy": "2024-12-20T14:03:32.513403Z",
     "iopub.status.idle": "2024-12-20T14:03:32.519362Z",
     "shell.execute_reply": "2024-12-20T14:03:32.518268Z"
    },
    "papermill": {
     "duration": 0.029965,
     "end_time": "2024-12-20T14:03:32.521270",
     "exception": false,
     "start_time": "2024-12-20T14:03:32.491305",
     "status": "completed"
    },
    "tags": []
   },
   "outputs": [
    {
     "data": {
      "text/plain": [
       "['Glucose', 'BloodPressure', 'SkinThickness', 'Insulin', 'BMI']"
      ]
     },
     "execution_count": 28,
     "metadata": {},
     "output_type": "execute_result"
    }
   ],
   "source": [
    "zero_columns"
   ]
  },
  {
   "cell_type": "code",
   "execution_count": 29,
   "id": "78fc4174",
   "metadata": {
    "execution": {
     "iopub.execute_input": "2024-12-20T14:03:32.566324Z",
     "iopub.status.busy": "2024-12-20T14:03:32.565926Z",
     "iopub.status.idle": "2024-12-20T14:03:32.573490Z",
     "shell.execute_reply": "2024-12-20T14:03:32.572251Z"
    },
    "papermill": {
     "duration": 0.032797,
     "end_time": "2024-12-20T14:03:32.575613",
     "exception": false,
     "start_time": "2024-12-20T14:03:32.542816",
     "status": "completed"
    },
    "tags": []
   },
   "outputs": [],
   "source": [
    "for col in zero_columns:\n",
    "    df[col] = np.where(df[col] == 0, np.nan, df[col])"
   ]
  },
  {
   "cell_type": "code",
   "execution_count": 30,
   "id": "cfe1b598",
   "metadata": {
    "execution": {
     "iopub.execute_input": "2024-12-20T14:03:32.619671Z",
     "iopub.status.busy": "2024-12-20T14:03:32.619328Z",
     "iopub.status.idle": "2024-12-20T14:03:32.627232Z",
     "shell.execute_reply": "2024-12-20T14:03:32.626061Z"
    },
    "papermill": {
     "duration": 0.032203,
     "end_time": "2024-12-20T14:03:32.629156",
     "exception": false,
     "start_time": "2024-12-20T14:03:32.596953",
     "status": "completed"
    },
    "tags": []
   },
   "outputs": [
    {
     "data": {
      "text/plain": [
       "Pregnancies                   0\n",
       "Glucose                       5\n",
       "BloodPressure                35\n",
       "SkinThickness               227\n",
       "Insulin                     374\n",
       "BMI                          11\n",
       "DiabetesPedigreeFunction      0\n",
       "Age                           0\n",
       "Outcome                       0\n",
       "dtype: int64"
      ]
     },
     "execution_count": 30,
     "metadata": {},
     "output_type": "execute_result"
    }
   ],
   "source": [
    "df.isnull().sum()"
   ]
  },
  {
   "cell_type": "code",
   "execution_count": 31,
   "id": "8a00187e",
   "metadata": {
    "execution": {
     "iopub.execute_input": "2024-12-20T14:03:32.674040Z",
     "iopub.status.busy": "2024-12-20T14:03:32.673597Z",
     "iopub.status.idle": "2024-12-20T14:03:32.679767Z",
     "shell.execute_reply": "2024-12-20T14:03:32.678584Z"
    },
    "papermill": {
     "duration": 0.03117,
     "end_time": "2024-12-20T14:03:32.681622",
     "exception": false,
     "start_time": "2024-12-20T14:03:32.650452",
     "status": "completed"
    },
    "tags": []
   },
   "outputs": [],
   "source": [
    "def missing_values_table(dataframe, na_name=False):\n",
    "    na_columns = [col for col in dataframe.columns if dataframe[col].isnull().sum() > 0]\n",
    "    n_miss = dataframe[na_columns].isnull().sum().sort_values(ascending=False)\n",
    "    ratio = (dataframe[na_columns].isnull().sum() / dataframe.shape[0] * 100).sort_values(ascending=False)\n",
    "    missing_df = pd.concat([n_miss, np.round(ratio, 2)], axis=1, keys=['n_miss', 'ratio'])\n",
    "    print(missing_df, end=\"\\n\")\n",
    "    if na_name:\n",
    "        return na_columns"
   ]
  },
  {
   "cell_type": "code",
   "execution_count": 32,
   "id": "2dbb285f",
   "metadata": {
    "execution": {
     "iopub.execute_input": "2024-12-20T14:03:32.726519Z",
     "iopub.status.busy": "2024-12-20T14:03:32.726185Z",
     "iopub.status.idle": "2024-12-20T14:03:32.738845Z",
     "shell.execute_reply": "2024-12-20T14:03:32.737477Z"
    },
    "papermill": {
     "duration": 0.037603,
     "end_time": "2024-12-20T14:03:32.740819",
     "exception": false,
     "start_time": "2024-12-20T14:03:32.703216",
     "status": "completed"
    },
    "tags": []
   },
   "outputs": [
    {
     "name": "stdout",
     "output_type": "stream",
     "text": [
      "               n_miss  ratio\n",
      "Insulin           374 48.700\n",
      "SkinThickness     227 29.560\n",
      "BloodPressure      35  4.560\n",
      "BMI                11  1.430\n",
      "Glucose             5  0.650\n"
     ]
    }
   ],
   "source": [
    "na_columns = missing_values_table(df, na_name=True)"
   ]
  },
  {
   "cell_type": "code",
   "execution_count": 33,
   "id": "9ef29eaa",
   "metadata": {
    "execution": {
     "iopub.execute_input": "2024-12-20T14:03:32.787579Z",
     "iopub.status.busy": "2024-12-20T14:03:32.787228Z",
     "iopub.status.idle": "2024-12-20T14:03:32.793034Z",
     "shell.execute_reply": "2024-12-20T14:03:32.791891Z"
    },
    "papermill": {
     "duration": 0.03081,
     "end_time": "2024-12-20T14:03:32.794861",
     "exception": false,
     "start_time": "2024-12-20T14:03:32.764051",
     "status": "completed"
    },
    "tags": []
   },
   "outputs": [],
   "source": [
    "def missing_vs_target(dataframe, target, na_columns):\n",
    "    temp_df = dataframe.copy()\n",
    "    for col in na_columns:\n",
    "        temp_df[col + '_NA_FLAG'] = np.where(temp_df[col].isnull(), 1, 0)\n",
    "    na_flags = temp_df.loc[:, temp_df.columns.str.contains(\"_NA_\")].columns\n",
    "    for col in na_flags:\n",
    "        print(pd.DataFrame({\"TARGET_MEAN\": temp_df.groupby(col)[target].mean(),\n",
    "                            \"Count\": temp_df.groupby(col)[target].count()}), end=\"\\n\\n\\n\")\n"
   ]
  },
  {
   "cell_type": "code",
   "execution_count": 34,
   "id": "81f93fd7",
   "metadata": {
    "execution": {
     "iopub.execute_input": "2024-12-20T14:03:32.839535Z",
     "iopub.status.busy": "2024-12-20T14:03:32.839206Z",
     "iopub.status.idle": "2024-12-20T14:03:32.863929Z",
     "shell.execute_reply": "2024-12-20T14:03:32.862502Z"
    },
    "papermill": {
     "duration": 0.049596,
     "end_time": "2024-12-20T14:03:32.865986",
     "exception": false,
     "start_time": "2024-12-20T14:03:32.816390",
     "status": "completed"
    },
    "tags": []
   },
   "outputs": [
    {
     "name": "stdout",
     "output_type": "stream",
     "text": [
      "                 TARGET_MEAN  Count\n",
      "Glucose_NA_FLAG                    \n",
      "0                      0.349    763\n",
      "1                      0.400      5\n",
      "\n",
      "\n",
      "                       TARGET_MEAN  Count\n",
      "BloodPressure_NA_FLAG                    \n",
      "0                            0.344    733\n",
      "1                            0.457     35\n",
      "\n",
      "\n",
      "                       TARGET_MEAN  Count\n",
      "SkinThickness_NA_FLAG                    \n",
      "0                            0.333    541\n",
      "1                            0.388    227\n",
      "\n",
      "\n",
      "                 TARGET_MEAN  Count\n",
      "Insulin_NA_FLAG                    \n",
      "0                      0.330    394\n",
      "1                      0.369    374\n",
      "\n",
      "\n",
      "             TARGET_MEAN  Count\n",
      "BMI_NA_FLAG                    \n",
      "0                  0.351    757\n",
      "1                  0.182     11\n",
      "\n",
      "\n"
     ]
    }
   ],
   "source": [
    "missing_vs_target(df, \"Outcome\", na_columns)"
   ]
  },
  {
   "cell_type": "code",
   "execution_count": 35,
   "id": "2664ebf7",
   "metadata": {
    "execution": {
     "iopub.execute_input": "2024-12-20T14:03:32.910508Z",
     "iopub.status.busy": "2024-12-20T14:03:32.910161Z",
     "iopub.status.idle": "2024-12-20T14:03:32.919158Z",
     "shell.execute_reply": "2024-12-20T14:03:32.917866Z"
    },
    "papermill": {
     "duration": 0.033674,
     "end_time": "2024-12-20T14:03:32.921405",
     "exception": false,
     "start_time": "2024-12-20T14:03:32.887731",
     "status": "completed"
    },
    "tags": []
   },
   "outputs": [],
   "source": [
    "for col in zero_columns:\n",
    "    df.loc[df[col].isnull(), col] = df[col].median()"
   ]
  },
  {
   "cell_type": "code",
   "execution_count": 36,
   "id": "d2f96610",
   "metadata": {
    "execution": {
     "iopub.execute_input": "2024-12-20T14:03:32.967008Z",
     "iopub.status.busy": "2024-12-20T14:03:32.966600Z",
     "iopub.status.idle": "2024-12-20T14:03:32.974747Z",
     "shell.execute_reply": "2024-12-20T14:03:32.973555Z"
    },
    "papermill": {
     "duration": 0.033507,
     "end_time": "2024-12-20T14:03:32.976397",
     "exception": false,
     "start_time": "2024-12-20T14:03:32.942890",
     "status": "completed"
    },
    "tags": []
   },
   "outputs": [
    {
     "data": {
      "text/plain": [
       "Pregnancies                 0\n",
       "Glucose                     0\n",
       "BloodPressure               0\n",
       "SkinThickness               0\n",
       "Insulin                     0\n",
       "BMI                         0\n",
       "DiabetesPedigreeFunction    0\n",
       "Age                         0\n",
       "Outcome                     0\n",
       "dtype: int64"
      ]
     },
     "execution_count": 36,
     "metadata": {},
     "output_type": "execute_result"
    }
   ],
   "source": [
    "df.isnull().sum()"
   ]
  },
  {
   "cell_type": "markdown",
   "id": "7789933b",
   "metadata": {
    "papermill": {
     "duration": 0.023319,
     "end_time": "2024-12-20T14:03:33.022237",
     "exception": false,
     "start_time": "2024-12-20T14:03:32.998918",
     "status": "completed"
    },
    "tags": []
   },
   "source": [
    "Outlier Analysis"
   ]
  },
  {
   "cell_type": "code",
   "execution_count": 37,
   "id": "d4e376cc",
   "metadata": {
    "execution": {
     "iopub.execute_input": "2024-12-20T14:03:33.068281Z",
     "iopub.status.busy": "2024-12-20T14:03:33.067769Z",
     "iopub.status.idle": "2024-12-20T14:03:33.073251Z",
     "shell.execute_reply": "2024-12-20T14:03:33.072112Z"
    },
    "papermill": {
     "duration": 0.030573,
     "end_time": "2024-12-20T14:03:33.075130",
     "exception": false,
     "start_time": "2024-12-20T14:03:33.044557",
     "status": "completed"
    },
    "tags": []
   },
   "outputs": [],
   "source": [
    "def outlier_thresholds(dataframe, col_name, q1=0.05, q3=0.95):\n",
    "    quartile1 = dataframe[col_name].quantile(q1)\n",
    "    quartile3 = dataframe[col_name].quantile(q3)\n",
    "    interquantile_range = quartile3 - quartile1\n",
    "    up_limit = quartile3 + 1.5 * interquantile_range\n",
    "    low_limit = quartile1 - 1.5 * interquantile_range\n",
    "    return low_limit, up_limit"
   ]
  },
  {
   "cell_type": "code",
   "execution_count": 38,
   "id": "cda5941a",
   "metadata": {
    "execution": {
     "iopub.execute_input": "2024-12-20T14:03:33.121478Z",
     "iopub.status.busy": "2024-12-20T14:03:33.121125Z",
     "iopub.status.idle": "2024-12-20T14:03:33.126235Z",
     "shell.execute_reply": "2024-12-20T14:03:33.125086Z"
    },
    "papermill": {
     "duration": 0.030017,
     "end_time": "2024-12-20T14:03:33.127876",
     "exception": false,
     "start_time": "2024-12-20T14:03:33.097859",
     "status": "completed"
    },
    "tags": []
   },
   "outputs": [],
   "source": [
    "def check_outlier(dataframe, col_name):\n",
    "    low_limit, up_limit = outlier_thresholds(dataframe, col_name)\n",
    "    if dataframe[(dataframe[col_name] > up_limit) | (dataframe[col_name] < low_limit)].any(axis=None):\n",
    "        return True\n",
    "    else:\n",
    "        return False"
   ]
  },
  {
   "cell_type": "code",
   "execution_count": 39,
   "id": "5a96943d",
   "metadata": {
    "execution": {
     "iopub.execute_input": "2024-12-20T14:03:33.174034Z",
     "iopub.status.busy": "2024-12-20T14:03:33.173542Z",
     "iopub.status.idle": "2024-12-20T14:03:33.179057Z",
     "shell.execute_reply": "2024-12-20T14:03:33.177806Z"
    },
    "papermill": {
     "duration": 0.031634,
     "end_time": "2024-12-20T14:03:33.181070",
     "exception": false,
     "start_time": "2024-12-20T14:03:33.149436",
     "status": "completed"
    },
    "tags": []
   },
   "outputs": [],
   "source": [
    "def replace_with_thresholds(dataframe, variable, q1=0.05, q3=0.95):\n",
    "    low_limit, up_limit = outlier_thresholds(dataframe, variable, q1=0.05, q3=0.95)\n",
    "    dataframe.loc[(dataframe[variable] < low_limit), variable] = low_limit\n",
    "    dataframe.loc[(dataframe[variable] > up_limit), variable] = up_limit\n"
   ]
  },
  {
   "cell_type": "code",
   "execution_count": 40,
   "id": "1ab5bce3",
   "metadata": {
    "execution": {
     "iopub.execute_input": "2024-12-20T14:03:33.226399Z",
     "iopub.status.busy": "2024-12-20T14:03:33.226059Z",
     "iopub.status.idle": "2024-12-20T14:03:33.284298Z",
     "shell.execute_reply": "2024-12-20T14:03:33.283115Z"
    },
    "papermill": {
     "duration": 0.083323,
     "end_time": "2024-12-20T14:03:33.286105",
     "exception": false,
     "start_time": "2024-12-20T14:03:33.202782",
     "status": "completed"
    },
    "tags": []
   },
   "outputs": [
    {
     "name": "stdout",
     "output_type": "stream",
     "text": [
      "Pregnancies False\n",
      "Glucose False\n",
      "BloodPressure False\n",
      "SkinThickness True\n",
      "Insulin True\n",
      "BMI False\n",
      "DiabetesPedigreeFunction False\n",
      "Age False\n",
      "Outcome False\n"
     ]
    }
   ],
   "source": [
    "for col in df.columns:\n",
    "    print(col, check_outlier(df, col))\n",
    "    if check_outlier(df, col):\n",
    "        replace_with_thresholds(df, col)"
   ]
  },
  {
   "cell_type": "code",
   "execution_count": 41,
   "id": "f59df033",
   "metadata": {
    "execution": {
     "iopub.execute_input": "2024-12-20T14:03:33.331788Z",
     "iopub.status.busy": "2024-12-20T14:03:33.331368Z",
     "iopub.status.idle": "2024-12-20T14:03:33.366646Z",
     "shell.execute_reply": "2024-12-20T14:03:33.365303Z"
    },
    "papermill": {
     "duration": 0.060642,
     "end_time": "2024-12-20T14:03:33.368689",
     "exception": false,
     "start_time": "2024-12-20T14:03:33.308047",
     "status": "completed"
    },
    "tags": []
   },
   "outputs": [
    {
     "name": "stdout",
     "output_type": "stream",
     "text": [
      "Pregnancies False\n",
      "Glucose False\n",
      "BloodPressure False\n",
      "SkinThickness False\n",
      "Insulin False\n",
      "BMI False\n",
      "DiabetesPedigreeFunction False\n",
      "Age False\n",
      "Outcome False\n"
     ]
    }
   ],
   "source": [
    "for col in df.columns:\n",
    "    print(col, check_outlier(df, col))"
   ]
  },
  {
   "cell_type": "markdown",
   "id": "00fc6453",
   "metadata": {
    "papermill": {
     "duration": 0.021359,
     "end_time": "2024-12-20T14:03:33.411902",
     "exception": false,
     "start_time": "2024-12-20T14:03:33.390543",
     "status": "completed"
    },
    "tags": []
   },
   "source": [
    "**Feature Extraction**\n",
    "\n",
    "Creating a new age variable"
   ]
  },
  {
   "cell_type": "code",
   "execution_count": 42,
   "id": "58c42d87",
   "metadata": {
    "execution": {
     "iopub.execute_input": "2024-12-20T14:03:33.460455Z",
     "iopub.status.busy": "2024-12-20T14:03:33.460048Z",
     "iopub.status.idle": "2024-12-20T14:03:33.467244Z",
     "shell.execute_reply": "2024-12-20T14:03:33.466171Z"
    },
    "papermill": {
     "duration": 0.033771,
     "end_time": "2024-12-20T14:03:33.469100",
     "exception": false,
     "start_time": "2024-12-20T14:03:33.435329",
     "status": "completed"
    },
    "tags": []
   },
   "outputs": [],
   "source": [
    "df.loc[(df[\"Age\"] >= 21) & (df[\"Age\"] < 50), \"NEW_AGE_CAT\"] = \"mature\"\n",
    "df.loc[(df[\"Age\"] >= 50), \"NEW_AGE_CAT\"] = \"senior\""
   ]
  },
  {
   "cell_type": "markdown",
   "id": "c9249399",
   "metadata": {
    "papermill": {
     "duration": 0.021973,
     "end_time": "2024-12-20T14:03:33.514032",
     "exception": false,
     "start_time": "2024-12-20T14:03:33.492059",
     "status": "completed"
    },
    "tags": []
   },
   "source": [
    "Creating a new BMI variable"
   ]
  },
  {
   "cell_type": "code",
   "execution_count": 43,
   "id": "ee07f9f5",
   "metadata": {
    "execution": {
     "iopub.execute_input": "2024-12-20T14:03:33.558544Z",
     "iopub.status.busy": "2024-12-20T14:03:33.558188Z",
     "iopub.status.idle": "2024-12-20T14:03:33.565502Z",
     "shell.execute_reply": "2024-12-20T14:03:33.564561Z"
    },
    "papermill": {
     "duration": 0.031797,
     "end_time": "2024-12-20T14:03:33.567401",
     "exception": false,
     "start_time": "2024-12-20T14:03:33.535604",
     "status": "completed"
    },
    "tags": []
   },
   "outputs": [],
   "source": [
    "df['NEW_BMI'] = pd.cut(x=df['BMI'], bins=[0, 18.5, 24.9, 29.9, 100],labels=[\"Underweight\", \"Healthy\", \"Overweight\", \"Obese\"])"
   ]
  },
  {
   "cell_type": "markdown",
   "id": "5917361c",
   "metadata": {
    "papermill": {
     "duration": 0.022511,
     "end_time": "2024-12-20T14:03:33.613303",
     "exception": false,
     "start_time": "2024-12-20T14:03:33.590792",
     "status": "completed"
    },
    "tags": []
   },
   "source": [
    "Converting glucose value to categorical variable"
   ]
  },
  {
   "cell_type": "code",
   "execution_count": 44,
   "id": "381f6978",
   "metadata": {
    "execution": {
     "iopub.execute_input": "2024-12-20T14:03:33.659327Z",
     "iopub.status.busy": "2024-12-20T14:03:33.658970Z",
     "iopub.status.idle": "2024-12-20T14:03:33.665913Z",
     "shell.execute_reply": "2024-12-20T14:03:33.664674Z"
    },
    "papermill": {
     "duration": 0.031608,
     "end_time": "2024-12-20T14:03:33.667680",
     "exception": false,
     "start_time": "2024-12-20T14:03:33.636072",
     "status": "completed"
    },
    "tags": []
   },
   "outputs": [],
   "source": [
    "df[\"NEW_GLUCOSE\"] = pd.cut(x=df[\"Glucose\"], bins=[0, 140, 200, 300], labels=[\"Normal\", \"Prediabetes\", \"Diabetes\"])"
   ]
  },
  {
   "cell_type": "markdown",
   "id": "9dd2d0ef",
   "metadata": {
    "papermill": {
     "duration": 0.02149,
     "end_time": "2024-12-20T14:03:33.711640",
     "exception": false,
     "start_time": "2024-12-20T14:03:33.690150",
     "status": "completed"
    },
    "tags": []
   },
   "source": [
    "Creating a categorical variable by considering age and body mass index together"
   ]
  },
  {
   "cell_type": "code",
   "execution_count": 45,
   "id": "3cbc35ca",
   "metadata": {
    "execution": {
     "iopub.execute_input": "2024-12-20T14:03:33.757210Z",
     "iopub.status.busy": "2024-12-20T14:03:33.756367Z",
     "iopub.status.idle": "2024-12-20T14:03:33.776155Z",
     "shell.execute_reply": "2024-12-20T14:03:33.774909Z"
    },
    "papermill": {
     "duration": 0.044562,
     "end_time": "2024-12-20T14:03:33.778132",
     "exception": false,
     "start_time": "2024-12-20T14:03:33.733570",
     "status": "completed"
    },
    "tags": []
   },
   "outputs": [],
   "source": [
    "df.loc[(df[\"BMI\"] < 18.5) & ((df[\"Age\"] >= 21) & (df[\"Age\"] < 50)), \"NEW_AGE_BMI_NOM\"] = \"underweightmature\"\n",
    "df.loc[(df[\"BMI\"] < 18.5) & (df[\"Age\"] >= 50), \"NEW_AGE_BMI_NOM\"] = \"underweightsenior\"\n",
    "df.loc[((df[\"BMI\"] >= 18.5) & (df[\"BMI\"] < 25)) & ((df[\"Age\"] >= 21) & (df[\"Age\"] < 50)), \"NEW_AGE_BMI_NOM\"] = \"healthymature\"\n",
    "df.loc[((df[\"BMI\"] >= 18.5) & (df[\"BMI\"] < 25)) & (df[\"Age\"] >= 50), \"NEW_AGE_BMI_NOM\"] = \"healthysenior\"\n",
    "df.loc[((df[\"BMI\"] >= 25) & (df[\"BMI\"] < 30)) & ((df[\"Age\"] >= 21) & (df[\"Age\"] < 50)), \"NEW_AGE_BMI_NOM\"] = \"overweightmature\"\n",
    "df.loc[((df[\"BMI\"] >= 25) & (df[\"BMI\"] < 30)) & (df[\"Age\"] >= 50), \"NEW_AGE_BMI_NOM\"] = \"overweightsenior\"\n",
    "df.loc[(df[\"BMI\"] > 18.5) & ((df[\"Age\"] >= 21) & (df[\"Age\"] < 50)), \"NEW_AGE_BMI_NOM\"] = \"obesemature\"\n",
    "df.loc[(df[\"BMI\"] > 18.5) & (df[\"Age\"] >= 50), \"NEW_AGE_BMI_NOM\"] = \"obesesenior\""
   ]
  },
  {
   "cell_type": "markdown",
   "id": "e2783b05",
   "metadata": {
    "papermill": {
     "duration": 0.021492,
     "end_time": "2024-12-20T14:03:33.821979",
     "exception": false,
     "start_time": "2024-12-20T14:03:33.800487",
     "status": "completed"
    },
    "tags": []
   },
   "source": [
    "Creating a categorical variable by considering age and glucose values together"
   ]
  },
  {
   "cell_type": "code",
   "execution_count": 46,
   "id": "9f8e6df5",
   "metadata": {
    "execution": {
     "iopub.execute_input": "2024-12-20T14:03:33.868368Z",
     "iopub.status.busy": "2024-12-20T14:03:33.867944Z",
     "iopub.status.idle": "2024-12-20T14:03:33.886939Z",
     "shell.execute_reply": "2024-12-20T14:03:33.885877Z"
    },
    "papermill": {
     "duration": 0.044791,
     "end_time": "2024-12-20T14:03:33.888636",
     "exception": false,
     "start_time": "2024-12-20T14:03:33.843845",
     "status": "completed"
    },
    "tags": []
   },
   "outputs": [],
   "source": [
    "df.loc[(df[\"Glucose\"] < 70) & ((df[\"Age\"] >= 21) & (df[\"Age\"] < 50)), \"NEW_AGE_GLUCOSE_NOM\"] = \"lowmature\"\n",
    "df.loc[(df[\"Glucose\"] < 70) & (df[\"Age\"] >= 50), \"NEW_AGE_GLUCOSE_NOM\"] = \"lowsenior\"\n",
    "df.loc[((df[\"Glucose\"] >= 70) & (df[\"Glucose\"] < 100)) & ((df[\"Age\"] >= 21) & (df[\"Age\"] < 50)), \"NEW_AGE_GLUCOSE_NOM\"] = \"normalmature\"\n",
    "df.loc[((df[\"Glucose\"] >= 70) & (df[\"Glucose\"] < 100)) & (df[\"Age\"] >= 50), \"NEW_AGE_GLUCOSE_NOM\"] = \"normalsenior\"\n",
    "df.loc[((df[\"Glucose\"] >= 100) & (df[\"Glucose\"] <= 125)) & ((df[\"Age\"] >= 21) & (df[\"Age\"] < 50)), \"NEW_AGE_GLUCOSE_NOM\"] = \"hiddenmature\"\n",
    "df.loc[((df[\"Glucose\"] >= 100) & (df[\"Glucose\"] <= 125)) & (df[\"Age\"] >= 50), \"NEW_AGE_GLUCOSE_NOM\"] = \"hiddensenior\"\n",
    "df.loc[(df[\"Glucose\"] > 125) & ((df[\"Age\"] >= 21) & (df[\"Age\"] < 50)), \"NEW_AGE_GLUCOSE_NOM\"] = \"highmature\"\n",
    "df.loc[(df[\"Glucose\"] > 125) & (df[\"Age\"] >= 50), \"NEW_AGE_GLUCOSE_NOM\"] = \"highsenior\""
   ]
  },
  {
   "cell_type": "code",
   "execution_count": 47,
   "id": "a2b466ab",
   "metadata": {
    "execution": {
     "iopub.execute_input": "2024-12-20T14:03:33.934526Z",
     "iopub.status.busy": "2024-12-20T14:03:33.934153Z",
     "iopub.status.idle": "2024-12-20T14:03:33.938989Z",
     "shell.execute_reply": "2024-12-20T14:03:33.937883Z"
    },
    "papermill": {
     "duration": 0.030046,
     "end_time": "2024-12-20T14:03:33.940907",
     "exception": false,
     "start_time": "2024-12-20T14:03:33.910861",
     "status": "completed"
    },
    "tags": []
   },
   "outputs": [],
   "source": [
    "def set_insulin(dataframe, col_name=\"Insulin\"):\n",
    "    if 16 <= dataframe[col_name] <= 166:\n",
    "        return \"Normal\"\n",
    "    else:\n",
    "        return \"Abnormal\""
   ]
  },
  {
   "cell_type": "code",
   "execution_count": 48,
   "id": "466c5868",
   "metadata": {
    "execution": {
     "iopub.execute_input": "2024-12-20T14:03:33.986085Z",
     "iopub.status.busy": "2024-12-20T14:03:33.985586Z",
     "iopub.status.idle": "2024-12-20T14:03:34.004840Z",
     "shell.execute_reply": "2024-12-20T14:03:34.003644Z"
    },
    "papermill": {
     "duration": 0.044051,
     "end_time": "2024-12-20T14:03:34.006820",
     "exception": false,
     "start_time": "2024-12-20T14:03:33.962769",
     "status": "completed"
    },
    "tags": []
   },
   "outputs": [],
   "source": [
    "df[\"NEW_INSULIN_SCORE\"] = df.apply(set_insulin, axis=1)"
   ]
  },
  {
   "cell_type": "code",
   "execution_count": 49,
   "id": "2e44ae9c",
   "metadata": {
    "execution": {
     "iopub.execute_input": "2024-12-20T14:03:34.052132Z",
     "iopub.status.busy": "2024-12-20T14:03:34.051651Z",
     "iopub.status.idle": "2024-12-20T14:03:34.057587Z",
     "shell.execute_reply": "2024-12-20T14:03:34.056147Z"
    },
    "papermill": {
     "duration": 0.030988,
     "end_time": "2024-12-20T14:03:34.059593",
     "exception": false,
     "start_time": "2024-12-20T14:03:34.028605",
     "status": "completed"
    },
    "tags": []
   },
   "outputs": [],
   "source": [
    "df[\"NEW_GLUCOSE*INSULIN\"] = df[\"Glucose\"] * df[\"Insulin\"]"
   ]
  },
  {
   "cell_type": "code",
   "execution_count": 50,
   "id": "807b3e56",
   "metadata": {
    "execution": {
     "iopub.execute_input": "2024-12-20T14:03:34.107368Z",
     "iopub.status.busy": "2024-12-20T14:03:34.106953Z",
     "iopub.status.idle": "2024-12-20T14:03:34.112463Z",
     "shell.execute_reply": "2024-12-20T14:03:34.111278Z"
    },
    "papermill": {
     "duration": 0.031981,
     "end_time": "2024-12-20T14:03:34.114316",
     "exception": false,
     "start_time": "2024-12-20T14:03:34.082335",
     "status": "completed"
    },
    "tags": []
   },
   "outputs": [],
   "source": [
    "df[\"NEW_GLUCOSE*PREGNANCIES\"] = df[\"Glucose\"] * df[\"Pregnancies\"]"
   ]
  },
  {
   "cell_type": "code",
   "execution_count": null,
   "id": "7d9c9ad7",
   "metadata": {
    "papermill": {
     "duration": 0.021568,
     "end_time": "2024-12-20T14:03:34.157685",
     "exception": false,
     "start_time": "2024-12-20T14:03:34.136117",
     "status": "completed"
    },
    "tags": []
   },
   "outputs": [],
   "source": []
  },
  {
   "cell_type": "markdown",
   "id": "5ff03410",
   "metadata": {
    "papermill": {
     "duration": 0.024006,
     "end_time": "2024-12-20T14:03:34.206160",
     "exception": false,
     "start_time": "2024-12-20T14:03:34.182154",
     "status": "completed"
    },
    "tags": []
   },
   "source": [
    "Label Eencoding"
   ]
  },
  {
   "cell_type": "code",
   "execution_count": 51,
   "id": "b356a363",
   "metadata": {
    "execution": {
     "iopub.execute_input": "2024-12-20T14:03:34.256229Z",
     "iopub.status.busy": "2024-12-20T14:03:34.255853Z",
     "iopub.status.idle": "2024-12-20T14:03:34.261060Z",
     "shell.execute_reply": "2024-12-20T14:03:34.259674Z"
    },
    "papermill": {
     "duration": 0.031752,
     "end_time": "2024-12-20T14:03:34.263081",
     "exception": false,
     "start_time": "2024-12-20T14:03:34.231329",
     "status": "completed"
    },
    "tags": []
   },
   "outputs": [],
   "source": [
    "def label_encoder(dataframe, binary_col):\n",
    "    labelencoder = LabelEncoder()\n",
    "    dataframe[binary_col] = labelencoder.fit_transform(dataframe[binary_col])\n",
    "    return dataframe"
   ]
  },
  {
   "cell_type": "code",
   "execution_count": 52,
   "id": "6b58bd8e",
   "metadata": {
    "execution": {
     "iopub.execute_input": "2024-12-20T14:03:34.310806Z",
     "iopub.status.busy": "2024-12-20T14:03:34.310412Z",
     "iopub.status.idle": "2024-12-20T14:03:34.317140Z",
     "shell.execute_reply": "2024-12-20T14:03:34.316105Z"
    },
    "papermill": {
     "duration": 0.032779,
     "end_time": "2024-12-20T14:03:34.319021",
     "exception": false,
     "start_time": "2024-12-20T14:03:34.286242",
     "status": "completed"
    },
    "tags": []
   },
   "outputs": [],
   "source": [
    "binary_cols = [col for col in df.columns if df[col].dtypes == \"O\" and df[col].nunique() == 2]"
   ]
  },
  {
   "cell_type": "code",
   "execution_count": 53,
   "id": "abdf9d85",
   "metadata": {
    "execution": {
     "iopub.execute_input": "2024-12-20T14:03:34.365138Z",
     "iopub.status.busy": "2024-12-20T14:03:34.364664Z",
     "iopub.status.idle": "2024-12-20T14:03:34.371109Z",
     "shell.execute_reply": "2024-12-20T14:03:34.369840Z"
    },
    "papermill": {
     "duration": 0.031741,
     "end_time": "2024-12-20T14:03:34.373212",
     "exception": false,
     "start_time": "2024-12-20T14:03:34.341471",
     "status": "completed"
    },
    "tags": []
   },
   "outputs": [
    {
     "data": {
      "text/plain": [
       "['NEW_AGE_CAT', 'NEW_INSULIN_SCORE']"
      ]
     },
     "execution_count": 53,
     "metadata": {},
     "output_type": "execute_result"
    }
   ],
   "source": [
    "binary_cols\n"
   ]
  },
  {
   "cell_type": "code",
   "execution_count": 54,
   "id": "df73edbf",
   "metadata": {
    "execution": {
     "iopub.execute_input": "2024-12-20T14:03:34.419346Z",
     "iopub.status.busy": "2024-12-20T14:03:34.418976Z",
     "iopub.status.idle": "2024-12-20T14:03:34.423968Z",
     "shell.execute_reply": "2024-12-20T14:03:34.422822Z"
    },
    "papermill": {
     "duration": 0.030208,
     "end_time": "2024-12-20T14:03:34.425996",
     "exception": false,
     "start_time": "2024-12-20T14:03:34.395788",
     "status": "completed"
    },
    "tags": []
   },
   "outputs": [],
   "source": [
    "df.columns = [col.upper() for col in df.columns]"
   ]
  },
  {
   "cell_type": "code",
   "execution_count": 55,
   "id": "775c3fda",
   "metadata": {
    "execution": {
     "iopub.execute_input": "2024-12-20T14:03:34.473724Z",
     "iopub.status.busy": "2024-12-20T14:03:34.473350Z",
     "iopub.status.idle": "2024-12-20T14:03:34.484447Z",
     "shell.execute_reply": "2024-12-20T14:03:34.483229Z"
    },
    "papermill": {
     "duration": 0.035887,
     "end_time": "2024-12-20T14:03:34.486226",
     "exception": false,
     "start_time": "2024-12-20T14:03:34.450339",
     "status": "completed"
    },
    "tags": []
   },
   "outputs": [
    {
     "name": "stdout",
     "output_type": "stream",
     "text": [
      "Observations: 768\n",
      "Variables: 17\n",
      "cat_cols: 7\n",
      "num_cols: 10\n",
      "cat_but_car: 0\n",
      "num_but_cat: 3\n"
     ]
    }
   ],
   "source": [
    "cat_cols, num_cols, cat_but_car = grab_col_names(df)"
   ]
  },
  {
   "cell_type": "code",
   "execution_count": 56,
   "id": "b18caf0b",
   "metadata": {
    "execution": {
     "iopub.execute_input": "2024-12-20T14:03:34.589498Z",
     "iopub.status.busy": "2024-12-20T14:03:34.589090Z",
     "iopub.status.idle": "2024-12-20T14:03:34.594685Z",
     "shell.execute_reply": "2024-12-20T14:03:34.593861Z"
    },
    "papermill": {
     "duration": 0.08797,
     "end_time": "2024-12-20T14:03:34.596459",
     "exception": false,
     "start_time": "2024-12-20T14:03:34.508489",
     "status": "completed"
    },
    "tags": []
   },
   "outputs": [],
   "source": [
    "for col in binary_cols:\n",
    "    df = label_encoder(df, col)"
   ]
  },
  {
   "cell_type": "markdown",
   "id": "1fa78bc0",
   "metadata": {
    "papermill": {
     "duration": 0.022392,
     "end_time": "2024-12-20T14:03:34.641128",
     "exception": false,
     "start_time": "2024-12-20T14:03:34.618736",
     "status": "completed"
    },
    "tags": []
   },
   "source": [
    "One-Hot Encoding"
   ]
  },
  {
   "cell_type": "code",
   "execution_count": 57,
   "id": "2d51c2a1",
   "metadata": {
    "execution": {
     "iopub.execute_input": "2024-12-20T14:03:34.686552Z",
     "iopub.status.busy": "2024-12-20T14:03:34.686163Z",
     "iopub.status.idle": "2024-12-20T14:03:34.690761Z",
     "shell.execute_reply": "2024-12-20T14:03:34.689623Z"
    },
    "papermill": {
     "duration": 0.029548,
     "end_time": "2024-12-20T14:03:34.692774",
     "exception": false,
     "start_time": "2024-12-20T14:03:34.663226",
     "status": "completed"
    },
    "tags": []
   },
   "outputs": [],
   "source": [
    "cat_cols = [col for col in cat_cols if col not in binary_cols and col not in [\"OUTCOME\"]]"
   ]
  },
  {
   "cell_type": "code",
   "execution_count": 58,
   "id": "653c6934",
   "metadata": {
    "execution": {
     "iopub.execute_input": "2024-12-20T14:03:34.738820Z",
     "iopub.status.busy": "2024-12-20T14:03:34.738428Z",
     "iopub.status.idle": "2024-12-20T14:03:34.745228Z",
     "shell.execute_reply": "2024-12-20T14:03:34.743905Z"
    },
    "papermill": {
     "duration": 0.03184,
     "end_time": "2024-12-20T14:03:34.747190",
     "exception": false,
     "start_time": "2024-12-20T14:03:34.715350",
     "status": "completed"
    },
    "tags": []
   },
   "outputs": [
    {
     "data": {
      "text/plain": [
       "['NEW_AGE_BMI_NOM', 'NEW_AGE_GLUCOSE_NOM', 'NEW_BMI', 'NEW_GLUCOSE']"
      ]
     },
     "execution_count": 58,
     "metadata": {},
     "output_type": "execute_result"
    }
   ],
   "source": [
    "cat_cols"
   ]
  },
  {
   "cell_type": "code",
   "execution_count": 59,
   "id": "3e9494df",
   "metadata": {
    "execution": {
     "iopub.execute_input": "2024-12-20T14:03:34.793317Z",
     "iopub.status.busy": "2024-12-20T14:03:34.792975Z",
     "iopub.status.idle": "2024-12-20T14:03:34.798170Z",
     "shell.execute_reply": "2024-12-20T14:03:34.797051Z"
    },
    "papermill": {
     "duration": 0.030517,
     "end_time": "2024-12-20T14:03:34.799986",
     "exception": false,
     "start_time": "2024-12-20T14:03:34.769469",
     "status": "completed"
    },
    "tags": []
   },
   "outputs": [],
   "source": [
    "def one_hot_encoder(dataframe, categorical_cols, drop_first=False):\n",
    "    dataframe = pd.get_dummies(dataframe, columns=categorical_cols, drop_first=drop_first)\n",
    "    return dataframe"
   ]
  },
  {
   "cell_type": "code",
   "execution_count": 60,
   "id": "3922857a",
   "metadata": {
    "execution": {
     "iopub.execute_input": "2024-12-20T14:03:34.847092Z",
     "iopub.status.busy": "2024-12-20T14:03:34.846681Z",
     "iopub.status.idle": "2024-12-20T14:03:34.852852Z",
     "shell.execute_reply": "2024-12-20T14:03:34.851558Z"
    },
    "papermill": {
     "duration": 0.032091,
     "end_time": "2024-12-20T14:03:34.854478",
     "exception": false,
     "start_time": "2024-12-20T14:03:34.822387",
     "status": "completed"
    },
    "tags": []
   },
   "outputs": [
    {
     "name": "stdout",
     "output_type": "stream",
     "text": [
      "Index(['PREGNANCIES', 'GLUCOSE', 'BLOODPRESSURE', 'SKINTHICKNESS', 'INSULIN',\n",
      "       'BMI', 'DIABETESPEDIGREEFUNCTION', 'AGE', 'OUTCOME', 'NEW_AGE_CAT',\n",
      "       'NEW_BMI', 'NEW_GLUCOSE', 'NEW_AGE_BMI_NOM', 'NEW_AGE_GLUCOSE_NOM',\n",
      "       'NEW_INSULIN_SCORE', 'NEW_GLUCOSE*INSULIN', 'NEW_GLUCOSE*PREGNANCIES'],\n",
      "      dtype='object')\n",
      "['NEW_AGE_BMI_NOM', 'NEW_AGE_GLUCOSE_NOM', 'NEW_BMI', 'NEW_GLUCOSE']\n"
     ]
    }
   ],
   "source": [
    "print(df.columns)\n",
    "print(cat_cols)"
   ]
  },
  {
   "cell_type": "code",
   "execution_count": 61,
   "id": "cb3a7b0a",
   "metadata": {
    "execution": {
     "iopub.execute_input": "2024-12-20T14:03:34.901163Z",
     "iopub.status.busy": "2024-12-20T14:03:34.900774Z",
     "iopub.status.idle": "2024-12-20T14:03:34.911069Z",
     "shell.execute_reply": "2024-12-20T14:03:34.909945Z"
    },
    "papermill": {
     "duration": 0.036056,
     "end_time": "2024-12-20T14:03:34.913133",
     "exception": false,
     "start_time": "2024-12-20T14:03:34.877077",
     "status": "completed"
    },
    "tags": []
   },
   "outputs": [],
   "source": [
    "df = one_hot_encoder(df, cat_cols, drop_first=True)"
   ]
  },
  {
   "cell_type": "code",
   "execution_count": 62,
   "id": "b674083b",
   "metadata": {
    "execution": {
     "iopub.execute_input": "2024-12-20T14:03:34.960093Z",
     "iopub.status.busy": "2024-12-20T14:03:34.959626Z",
     "iopub.status.idle": "2024-12-20T14:03:34.979969Z",
     "shell.execute_reply": "2024-12-20T14:03:34.978851Z"
    },
    "papermill": {
     "duration": 0.046029,
     "end_time": "2024-12-20T14:03:34.981787",
     "exception": false,
     "start_time": "2024-12-20T14:03:34.935758",
     "status": "completed"
    },
    "tags": []
   },
   "outputs": [
    {
     "data": {
      "text/html": [
       "<div>\n",
       "<style scoped>\n",
       "    .dataframe tbody tr th:only-of-type {\n",
       "        vertical-align: middle;\n",
       "    }\n",
       "\n",
       "    .dataframe tbody tr th {\n",
       "        vertical-align: top;\n",
       "    }\n",
       "\n",
       "    .dataframe thead th {\n",
       "        text-align: right;\n",
       "    }\n",
       "</style>\n",
       "<table border=\"1\" class=\"dataframe\">\n",
       "  <thead>\n",
       "    <tr style=\"text-align: right;\">\n",
       "      <th></th>\n",
       "      <th>PREGNANCIES</th>\n",
       "      <th>GLUCOSE</th>\n",
       "      <th>BLOODPRESSURE</th>\n",
       "      <th>SKINTHICKNESS</th>\n",
       "      <th>INSULIN</th>\n",
       "      <th>BMI</th>\n",
       "      <th>DIABETESPEDIGREEFUNCTION</th>\n",
       "      <th>AGE</th>\n",
       "      <th>OUTCOME</th>\n",
       "      <th>NEW_AGE_CAT</th>\n",
       "      <th>NEW_INSULIN_SCORE</th>\n",
       "      <th>NEW_GLUCOSE*INSULIN</th>\n",
       "      <th>NEW_GLUCOSE*PREGNANCIES</th>\n",
       "      <th>NEW_AGE_BMI_NOM_obesesenior</th>\n",
       "      <th>NEW_AGE_BMI_NOM_underweightmature</th>\n",
       "      <th>NEW_AGE_GLUCOSE_NOM_hiddensenior</th>\n",
       "      <th>NEW_AGE_GLUCOSE_NOM_highmature</th>\n",
       "      <th>NEW_AGE_GLUCOSE_NOM_highsenior</th>\n",
       "      <th>NEW_AGE_GLUCOSE_NOM_lowmature</th>\n",
       "      <th>NEW_AGE_GLUCOSE_NOM_lowsenior</th>\n",
       "      <th>NEW_AGE_GLUCOSE_NOM_normalmature</th>\n",
       "      <th>NEW_AGE_GLUCOSE_NOM_normalsenior</th>\n",
       "      <th>NEW_BMI_Healthy</th>\n",
       "      <th>NEW_BMI_Overweight</th>\n",
       "      <th>NEW_BMI_Obese</th>\n",
       "      <th>NEW_GLUCOSE_Prediabetes</th>\n",
       "      <th>NEW_GLUCOSE_Diabetes</th>\n",
       "    </tr>\n",
       "  </thead>\n",
       "  <tbody>\n",
       "    <tr>\n",
       "      <th>0</th>\n",
       "      <td>6</td>\n",
       "      <td>148.000</td>\n",
       "      <td>72.000</td>\n",
       "      <td>35.000</td>\n",
       "      <td>125.000</td>\n",
       "      <td>33.600</td>\n",
       "      <td>0.627</td>\n",
       "      <td>50</td>\n",
       "      <td>1</td>\n",
       "      <td>1</td>\n",
       "      <td>1</td>\n",
       "      <td>18500.000</td>\n",
       "      <td>888.000</td>\n",
       "      <td>True</td>\n",
       "      <td>False</td>\n",
       "      <td>False</td>\n",
       "      <td>False</td>\n",
       "      <td>True</td>\n",
       "      <td>False</td>\n",
       "      <td>False</td>\n",
       "      <td>False</td>\n",
       "      <td>False</td>\n",
       "      <td>False</td>\n",
       "      <td>False</td>\n",
       "      <td>True</td>\n",
       "      <td>True</td>\n",
       "      <td>False</td>\n",
       "    </tr>\n",
       "    <tr>\n",
       "      <th>1</th>\n",
       "      <td>1</td>\n",
       "      <td>85.000</td>\n",
       "      <td>66.000</td>\n",
       "      <td>29.000</td>\n",
       "      <td>125.000</td>\n",
       "      <td>26.600</td>\n",
       "      <td>0.351</td>\n",
       "      <td>31</td>\n",
       "      <td>0</td>\n",
       "      <td>0</td>\n",
       "      <td>1</td>\n",
       "      <td>10625.000</td>\n",
       "      <td>85.000</td>\n",
       "      <td>False</td>\n",
       "      <td>False</td>\n",
       "      <td>False</td>\n",
       "      <td>False</td>\n",
       "      <td>False</td>\n",
       "      <td>False</td>\n",
       "      <td>False</td>\n",
       "      <td>True</td>\n",
       "      <td>False</td>\n",
       "      <td>False</td>\n",
       "      <td>True</td>\n",
       "      <td>False</td>\n",
       "      <td>False</td>\n",
       "      <td>False</td>\n",
       "    </tr>\n",
       "    <tr>\n",
       "      <th>2</th>\n",
       "      <td>8</td>\n",
       "      <td>183.000</td>\n",
       "      <td>64.000</td>\n",
       "      <td>29.000</td>\n",
       "      <td>125.000</td>\n",
       "      <td>23.300</td>\n",
       "      <td>0.672</td>\n",
       "      <td>32</td>\n",
       "      <td>1</td>\n",
       "      <td>0</td>\n",
       "      <td>1</td>\n",
       "      <td>22875.000</td>\n",
       "      <td>1464.000</td>\n",
       "      <td>False</td>\n",
       "      <td>False</td>\n",
       "      <td>False</td>\n",
       "      <td>True</td>\n",
       "      <td>False</td>\n",
       "      <td>False</td>\n",
       "      <td>False</td>\n",
       "      <td>False</td>\n",
       "      <td>False</td>\n",
       "      <td>True</td>\n",
       "      <td>False</td>\n",
       "      <td>False</td>\n",
       "      <td>True</td>\n",
       "      <td>False</td>\n",
       "    </tr>\n",
       "    <tr>\n",
       "      <th>3</th>\n",
       "      <td>1</td>\n",
       "      <td>89.000</td>\n",
       "      <td>66.000</td>\n",
       "      <td>23.000</td>\n",
       "      <td>94.000</td>\n",
       "      <td>28.100</td>\n",
       "      <td>0.167</td>\n",
       "      <td>21</td>\n",
       "      <td>0</td>\n",
       "      <td>0</td>\n",
       "      <td>1</td>\n",
       "      <td>8366.000</td>\n",
       "      <td>89.000</td>\n",
       "      <td>False</td>\n",
       "      <td>False</td>\n",
       "      <td>False</td>\n",
       "      <td>False</td>\n",
       "      <td>False</td>\n",
       "      <td>False</td>\n",
       "      <td>False</td>\n",
       "      <td>True</td>\n",
       "      <td>False</td>\n",
       "      <td>False</td>\n",
       "      <td>True</td>\n",
       "      <td>False</td>\n",
       "      <td>False</td>\n",
       "      <td>False</td>\n",
       "    </tr>\n",
       "    <tr>\n",
       "      <th>4</th>\n",
       "      <td>0</td>\n",
       "      <td>137.000</td>\n",
       "      <td>40.000</td>\n",
       "      <td>35.000</td>\n",
       "      <td>168.000</td>\n",
       "      <td>43.100</td>\n",
       "      <td>2.288</td>\n",
       "      <td>33</td>\n",
       "      <td>1</td>\n",
       "      <td>0</td>\n",
       "      <td>0</td>\n",
       "      <td>23016.000</td>\n",
       "      <td>0.000</td>\n",
       "      <td>False</td>\n",
       "      <td>False</td>\n",
       "      <td>False</td>\n",
       "      <td>True</td>\n",
       "      <td>False</td>\n",
       "      <td>False</td>\n",
       "      <td>False</td>\n",
       "      <td>False</td>\n",
       "      <td>False</td>\n",
       "      <td>False</td>\n",
       "      <td>False</td>\n",
       "      <td>True</td>\n",
       "      <td>False</td>\n",
       "      <td>False</td>\n",
       "    </tr>\n",
       "  </tbody>\n",
       "</table>\n",
       "</div>"
      ],
      "text/plain": [
       "   PREGNANCIES  GLUCOSE  BLOODPRESSURE  SKINTHICKNESS  INSULIN    BMI  \\\n",
       "0            6  148.000         72.000         35.000  125.000 33.600   \n",
       "1            1   85.000         66.000         29.000  125.000 26.600   \n",
       "2            8  183.000         64.000         29.000  125.000 23.300   \n",
       "3            1   89.000         66.000         23.000   94.000 28.100   \n",
       "4            0  137.000         40.000         35.000  168.000 43.100   \n",
       "\n",
       "   DIABETESPEDIGREEFUNCTION  AGE  OUTCOME  NEW_AGE_CAT  NEW_INSULIN_SCORE  \\\n",
       "0                     0.627   50        1            1                  1   \n",
       "1                     0.351   31        0            0                  1   \n",
       "2                     0.672   32        1            0                  1   \n",
       "3                     0.167   21        0            0                  1   \n",
       "4                     2.288   33        1            0                  0   \n",
       "\n",
       "   NEW_GLUCOSE*INSULIN  NEW_GLUCOSE*PREGNANCIES  NEW_AGE_BMI_NOM_obesesenior  \\\n",
       "0            18500.000                  888.000                         True   \n",
       "1            10625.000                   85.000                        False   \n",
       "2            22875.000                 1464.000                        False   \n",
       "3             8366.000                   89.000                        False   \n",
       "4            23016.000                    0.000                        False   \n",
       "\n",
       "   NEW_AGE_BMI_NOM_underweightmature  NEW_AGE_GLUCOSE_NOM_hiddensenior  \\\n",
       "0                              False                             False   \n",
       "1                              False                             False   \n",
       "2                              False                             False   \n",
       "3                              False                             False   \n",
       "4                              False                             False   \n",
       "\n",
       "   NEW_AGE_GLUCOSE_NOM_highmature  NEW_AGE_GLUCOSE_NOM_highsenior  \\\n",
       "0                           False                            True   \n",
       "1                           False                           False   \n",
       "2                            True                           False   \n",
       "3                           False                           False   \n",
       "4                            True                           False   \n",
       "\n",
       "   NEW_AGE_GLUCOSE_NOM_lowmature  NEW_AGE_GLUCOSE_NOM_lowsenior  \\\n",
       "0                          False                          False   \n",
       "1                          False                          False   \n",
       "2                          False                          False   \n",
       "3                          False                          False   \n",
       "4                          False                          False   \n",
       "\n",
       "   NEW_AGE_GLUCOSE_NOM_normalmature  NEW_AGE_GLUCOSE_NOM_normalsenior  \\\n",
       "0                             False                             False   \n",
       "1                              True                             False   \n",
       "2                             False                             False   \n",
       "3                              True                             False   \n",
       "4                             False                             False   \n",
       "\n",
       "   NEW_BMI_Healthy  NEW_BMI_Overweight  NEW_BMI_Obese  \\\n",
       "0            False               False           True   \n",
       "1            False                True          False   \n",
       "2             True               False          False   \n",
       "3            False                True          False   \n",
       "4            False               False           True   \n",
       "\n",
       "   NEW_GLUCOSE_Prediabetes  NEW_GLUCOSE_Diabetes  \n",
       "0                     True                 False  \n",
       "1                    False                 False  \n",
       "2                     True                 False  \n",
       "3                    False                 False  \n",
       "4                    False                 False  "
      ]
     },
     "execution_count": 62,
     "metadata": {},
     "output_type": "execute_result"
    }
   ],
   "source": [
    "df.head()"
   ]
  },
  {
   "cell_type": "markdown",
   "id": "cbcac90d",
   "metadata": {
    "papermill": {
     "duration": 0.023631,
     "end_time": "2024-12-20T14:03:35.029885",
     "exception": false,
     "start_time": "2024-12-20T14:03:35.006254",
     "status": "completed"
    },
    "tags": []
   },
   "source": [
    "Standardization"
   ]
  },
  {
   "cell_type": "code",
   "execution_count": 63,
   "id": "0a77ef52",
   "metadata": {
    "execution": {
     "iopub.execute_input": "2024-12-20T14:03:35.078843Z",
     "iopub.status.busy": "2024-12-20T14:03:35.078444Z",
     "iopub.status.idle": "2024-12-20T14:03:35.085425Z",
     "shell.execute_reply": "2024-12-20T14:03:35.083958Z"
    },
    "papermill": {
     "duration": 0.034014,
     "end_time": "2024-12-20T14:03:35.087654",
     "exception": false,
     "start_time": "2024-12-20T14:03:35.053640",
     "status": "completed"
    },
    "tags": []
   },
   "outputs": [
    {
     "data": {
      "text/plain": [
       "['PREGNANCIES',\n",
       " 'GLUCOSE',\n",
       " 'BLOODPRESSURE',\n",
       " 'SKINTHICKNESS',\n",
       " 'INSULIN',\n",
       " 'BMI',\n",
       " 'DIABETESPEDIGREEFUNCTION',\n",
       " 'AGE',\n",
       " 'NEW_GLUCOSE*INSULIN',\n",
       " 'NEW_GLUCOSE*PREGNANCIES']"
      ]
     },
     "execution_count": 63,
     "metadata": {},
     "output_type": "execute_result"
    }
   ],
   "source": [
    "num_cols"
   ]
  },
  {
   "cell_type": "code",
   "execution_count": 64,
   "id": "be89038c",
   "metadata": {
    "execution": {
     "iopub.execute_input": "2024-12-20T14:03:35.135420Z",
     "iopub.status.busy": "2024-12-20T14:03:35.135065Z",
     "iopub.status.idle": "2024-12-20T14:03:35.146884Z",
     "shell.execute_reply": "2024-12-20T14:03:35.146025Z"
    },
    "papermill": {
     "duration": 0.037712,
     "end_time": "2024-12-20T14:03:35.148836",
     "exception": false,
     "start_time": "2024-12-20T14:03:35.111124",
     "status": "completed"
    },
    "tags": []
   },
   "outputs": [],
   "source": [
    "scaler = StandardScaler()\n",
    "df[num_cols] = scaler.fit_transform(df[num_cols])"
   ]
  },
  {
   "cell_type": "code",
   "execution_count": 65,
   "id": "1c513332",
   "metadata": {
    "execution": {
     "iopub.execute_input": "2024-12-20T14:03:35.197551Z",
     "iopub.status.busy": "2024-12-20T14:03:35.197174Z",
     "iopub.status.idle": "2024-12-20T14:03:35.218458Z",
     "shell.execute_reply": "2024-12-20T14:03:35.217118Z"
    },
    "papermill": {
     "duration": 0.048094,
     "end_time": "2024-12-20T14:03:35.220475",
     "exception": false,
     "start_time": "2024-12-20T14:03:35.172381",
     "status": "completed"
    },
    "tags": []
   },
   "outputs": [
    {
     "data": {
      "text/html": [
       "<div>\n",
       "<style scoped>\n",
       "    .dataframe tbody tr th:only-of-type {\n",
       "        vertical-align: middle;\n",
       "    }\n",
       "\n",
       "    .dataframe tbody tr th {\n",
       "        vertical-align: top;\n",
       "    }\n",
       "\n",
       "    .dataframe thead th {\n",
       "        text-align: right;\n",
       "    }\n",
       "</style>\n",
       "<table border=\"1\" class=\"dataframe\">\n",
       "  <thead>\n",
       "    <tr style=\"text-align: right;\">\n",
       "      <th></th>\n",
       "      <th>PREGNANCIES</th>\n",
       "      <th>GLUCOSE</th>\n",
       "      <th>BLOODPRESSURE</th>\n",
       "      <th>SKINTHICKNESS</th>\n",
       "      <th>INSULIN</th>\n",
       "      <th>BMI</th>\n",
       "      <th>DIABETESPEDIGREEFUNCTION</th>\n",
       "      <th>AGE</th>\n",
       "      <th>OUTCOME</th>\n",
       "      <th>NEW_AGE_CAT</th>\n",
       "      <th>NEW_INSULIN_SCORE</th>\n",
       "      <th>NEW_GLUCOSE*INSULIN</th>\n",
       "      <th>NEW_GLUCOSE*PREGNANCIES</th>\n",
       "      <th>NEW_AGE_BMI_NOM_obesesenior</th>\n",
       "      <th>NEW_AGE_BMI_NOM_underweightmature</th>\n",
       "      <th>NEW_AGE_GLUCOSE_NOM_hiddensenior</th>\n",
       "      <th>NEW_AGE_GLUCOSE_NOM_highmature</th>\n",
       "      <th>NEW_AGE_GLUCOSE_NOM_highsenior</th>\n",
       "      <th>NEW_AGE_GLUCOSE_NOM_lowmature</th>\n",
       "      <th>NEW_AGE_GLUCOSE_NOM_lowsenior</th>\n",
       "      <th>NEW_AGE_GLUCOSE_NOM_normalmature</th>\n",
       "      <th>NEW_AGE_GLUCOSE_NOM_normalsenior</th>\n",
       "      <th>NEW_BMI_Healthy</th>\n",
       "      <th>NEW_BMI_Overweight</th>\n",
       "      <th>NEW_BMI_Obese</th>\n",
       "      <th>NEW_GLUCOSE_Prediabetes</th>\n",
       "      <th>NEW_GLUCOSE_Diabetes</th>\n",
       "    </tr>\n",
       "  </thead>\n",
       "  <tbody>\n",
       "    <tr>\n",
       "      <th>0</th>\n",
       "      <td>0.640</td>\n",
       "      <td>0.866</td>\n",
       "      <td>-0.032</td>\n",
       "      <td>0.680</td>\n",
       "      <td>-0.183</td>\n",
       "      <td>0.167</td>\n",
       "      <td>0.468</td>\n",
       "      <td>1.426</td>\n",
       "      <td>1</td>\n",
       "      <td>1</td>\n",
       "      <td>1</td>\n",
       "      <td>0.024</td>\n",
       "      <td>0.882</td>\n",
       "      <td>True</td>\n",
       "      <td>False</td>\n",
       "      <td>False</td>\n",
       "      <td>False</td>\n",
       "      <td>True</td>\n",
       "      <td>False</td>\n",
       "      <td>False</td>\n",
       "      <td>False</td>\n",
       "      <td>False</td>\n",
       "      <td>False</td>\n",
       "      <td>False</td>\n",
       "      <td>True</td>\n",
       "      <td>True</td>\n",
       "      <td>False</td>\n",
       "    </tr>\n",
       "    <tr>\n",
       "      <th>1</th>\n",
       "      <td>-0.845</td>\n",
       "      <td>-1.205</td>\n",
       "      <td>-0.528</td>\n",
       "      <td>-0.011</td>\n",
       "      <td>-0.183</td>\n",
       "      <td>-0.852</td>\n",
       "      <td>-0.365</td>\n",
       "      <td>-0.191</td>\n",
       "      <td>0</td>\n",
       "      <td>0</td>\n",
       "      <td>1</td>\n",
       "      <td>-0.503</td>\n",
       "      <td>-0.858</td>\n",
       "      <td>False</td>\n",
       "      <td>False</td>\n",
       "      <td>False</td>\n",
       "      <td>False</td>\n",
       "      <td>False</td>\n",
       "      <td>False</td>\n",
       "      <td>False</td>\n",
       "      <td>True</td>\n",
       "      <td>False</td>\n",
       "      <td>False</td>\n",
       "      <td>True</td>\n",
       "      <td>False</td>\n",
       "      <td>False</td>\n",
       "      <td>False</td>\n",
       "    </tr>\n",
       "    <tr>\n",
       "      <th>2</th>\n",
       "      <td>1.234</td>\n",
       "      <td>2.017</td>\n",
       "      <td>-0.694</td>\n",
       "      <td>-0.011</td>\n",
       "      <td>-0.183</td>\n",
       "      <td>-1.333</td>\n",
       "      <td>0.604</td>\n",
       "      <td>-0.106</td>\n",
       "      <td>1</td>\n",
       "      <td>0</td>\n",
       "      <td>1</td>\n",
       "      <td>0.317</td>\n",
       "      <td>2.129</td>\n",
       "      <td>False</td>\n",
       "      <td>False</td>\n",
       "      <td>False</td>\n",
       "      <td>True</td>\n",
       "      <td>False</td>\n",
       "      <td>False</td>\n",
       "      <td>False</td>\n",
       "      <td>False</td>\n",
       "      <td>False</td>\n",
       "      <td>True</td>\n",
       "      <td>False</td>\n",
       "      <td>False</td>\n",
       "      <td>True</td>\n",
       "      <td>False</td>\n",
       "    </tr>\n",
       "    <tr>\n",
       "      <th>3</th>\n",
       "      <td>-0.845</td>\n",
       "      <td>-1.074</td>\n",
       "      <td>-0.528</td>\n",
       "      <td>-0.702</td>\n",
       "      <td>-0.553</td>\n",
       "      <td>-0.634</td>\n",
       "      <td>-0.921</td>\n",
       "      <td>-1.042</td>\n",
       "      <td>0</td>\n",
       "      <td>0</td>\n",
       "      <td>1</td>\n",
       "      <td>-0.654</td>\n",
       "      <td>-0.849</td>\n",
       "      <td>False</td>\n",
       "      <td>False</td>\n",
       "      <td>False</td>\n",
       "      <td>False</td>\n",
       "      <td>False</td>\n",
       "      <td>False</td>\n",
       "      <td>False</td>\n",
       "      <td>True</td>\n",
       "      <td>False</td>\n",
       "      <td>False</td>\n",
       "      <td>True</td>\n",
       "      <td>False</td>\n",
       "      <td>False</td>\n",
       "      <td>False</td>\n",
       "    </tr>\n",
       "    <tr>\n",
       "      <th>4</th>\n",
       "      <td>-1.142</td>\n",
       "      <td>0.504</td>\n",
       "      <td>-2.679</td>\n",
       "      <td>0.680</td>\n",
       "      <td>0.331</td>\n",
       "      <td>1.549</td>\n",
       "      <td>5.485</td>\n",
       "      <td>-0.020</td>\n",
       "      <td>1</td>\n",
       "      <td>0</td>\n",
       "      <td>0</td>\n",
       "      <td>0.326</td>\n",
       "      <td>-1.042</td>\n",
       "      <td>False</td>\n",
       "      <td>False</td>\n",
       "      <td>False</td>\n",
       "      <td>True</td>\n",
       "      <td>False</td>\n",
       "      <td>False</td>\n",
       "      <td>False</td>\n",
       "      <td>False</td>\n",
       "      <td>False</td>\n",
       "      <td>False</td>\n",
       "      <td>False</td>\n",
       "      <td>True</td>\n",
       "      <td>False</td>\n",
       "      <td>False</td>\n",
       "    </tr>\n",
       "  </tbody>\n",
       "</table>\n",
       "</div>"
      ],
      "text/plain": [
       "   PREGNANCIES  GLUCOSE  BLOODPRESSURE  SKINTHICKNESS  INSULIN    BMI  \\\n",
       "0        0.640    0.866         -0.032          0.680   -0.183  0.167   \n",
       "1       -0.845   -1.205         -0.528         -0.011   -0.183 -0.852   \n",
       "2        1.234    2.017         -0.694         -0.011   -0.183 -1.333   \n",
       "3       -0.845   -1.074         -0.528         -0.702   -0.553 -0.634   \n",
       "4       -1.142    0.504         -2.679          0.680    0.331  1.549   \n",
       "\n",
       "   DIABETESPEDIGREEFUNCTION    AGE  OUTCOME  NEW_AGE_CAT  NEW_INSULIN_SCORE  \\\n",
       "0                     0.468  1.426        1            1                  1   \n",
       "1                    -0.365 -0.191        0            0                  1   \n",
       "2                     0.604 -0.106        1            0                  1   \n",
       "3                    -0.921 -1.042        0            0                  1   \n",
       "4                     5.485 -0.020        1            0                  0   \n",
       "\n",
       "   NEW_GLUCOSE*INSULIN  NEW_GLUCOSE*PREGNANCIES  NEW_AGE_BMI_NOM_obesesenior  \\\n",
       "0                0.024                    0.882                         True   \n",
       "1               -0.503                   -0.858                        False   \n",
       "2                0.317                    2.129                        False   \n",
       "3               -0.654                   -0.849                        False   \n",
       "4                0.326                   -1.042                        False   \n",
       "\n",
       "   NEW_AGE_BMI_NOM_underweightmature  NEW_AGE_GLUCOSE_NOM_hiddensenior  \\\n",
       "0                              False                             False   \n",
       "1                              False                             False   \n",
       "2                              False                             False   \n",
       "3                              False                             False   \n",
       "4                              False                             False   \n",
       "\n",
       "   NEW_AGE_GLUCOSE_NOM_highmature  NEW_AGE_GLUCOSE_NOM_highsenior  \\\n",
       "0                           False                            True   \n",
       "1                           False                           False   \n",
       "2                            True                           False   \n",
       "3                           False                           False   \n",
       "4                            True                           False   \n",
       "\n",
       "   NEW_AGE_GLUCOSE_NOM_lowmature  NEW_AGE_GLUCOSE_NOM_lowsenior  \\\n",
       "0                          False                          False   \n",
       "1                          False                          False   \n",
       "2                          False                          False   \n",
       "3                          False                          False   \n",
       "4                          False                          False   \n",
       "\n",
       "   NEW_AGE_GLUCOSE_NOM_normalmature  NEW_AGE_GLUCOSE_NOM_normalsenior  \\\n",
       "0                             False                             False   \n",
       "1                              True                             False   \n",
       "2                             False                             False   \n",
       "3                              True                             False   \n",
       "4                             False                             False   \n",
       "\n",
       "   NEW_BMI_Healthy  NEW_BMI_Overweight  NEW_BMI_Obese  \\\n",
       "0            False               False           True   \n",
       "1            False                True          False   \n",
       "2             True               False          False   \n",
       "3            False                True          False   \n",
       "4            False               False           True   \n",
       "\n",
       "   NEW_GLUCOSE_Prediabetes  NEW_GLUCOSE_Diabetes  \n",
       "0                     True                 False  \n",
       "1                    False                 False  \n",
       "2                     True                 False  \n",
       "3                    False                 False  \n",
       "4                    False                 False  "
      ]
     },
     "execution_count": 65,
     "metadata": {},
     "output_type": "execute_result"
    }
   ],
   "source": [
    "df.head()\n"
   ]
  },
  {
   "cell_type": "code",
   "execution_count": 66,
   "id": "f125caa9",
   "metadata": {
    "execution": {
     "iopub.execute_input": "2024-12-20T14:03:35.270289Z",
     "iopub.status.busy": "2024-12-20T14:03:35.269927Z",
     "iopub.status.idle": "2024-12-20T14:03:35.281732Z",
     "shell.execute_reply": "2024-12-20T14:03:35.280507Z"
    },
    "papermill": {
     "duration": 0.039716,
     "end_time": "2024-12-20T14:03:35.283880",
     "exception": false,
     "start_time": "2024-12-20T14:03:35.244164",
     "status": "completed"
    },
    "tags": []
   },
   "outputs": [],
   "source": [
    "y = df[\"OUTCOME\"]\n",
    "X = df.drop(\"OUTCOME\", axis=1)\n",
    "X_train, X_test, y_train, y_test = train_test_split(X, y, test_size=0.30, random_state=17)"
   ]
  },
  {
   "cell_type": "code",
   "execution_count": 67,
   "id": "466ef763",
   "metadata": {
    "execution": {
     "iopub.execute_input": "2024-12-20T14:03:35.331895Z",
     "iopub.status.busy": "2024-12-20T14:03:35.331496Z",
     "iopub.status.idle": "2024-12-20T14:03:35.560192Z",
     "shell.execute_reply": "2024-12-20T14:03:35.559098Z"
    },
    "papermill": {
     "duration": 0.254787,
     "end_time": "2024-12-20T14:03:35.562198",
     "exception": false,
     "start_time": "2024-12-20T14:03:35.307411",
     "status": "completed"
    },
    "tags": []
   },
   "outputs": [],
   "source": [
    "rf_model = RandomForestClassifier(random_state=46).fit(X_train, y_train)\n",
    "y_pred = rf_model.predict(X_test)"
   ]
  },
  {
   "cell_type": "code",
   "execution_count": 68,
   "id": "b7054c12",
   "metadata": {
    "execution": {
     "iopub.execute_input": "2024-12-20T14:03:35.611246Z",
     "iopub.status.busy": "2024-12-20T14:03:35.610887Z",
     "iopub.status.idle": "2024-12-20T14:03:35.629039Z",
     "shell.execute_reply": "2024-12-20T14:03:35.627783Z"
    },
    "papermill": {
     "duration": 0.04507,
     "end_time": "2024-12-20T14:03:35.631008",
     "exception": false,
     "start_time": "2024-12-20T14:03:35.585938",
     "status": "completed"
    },
    "tags": []
   },
   "outputs": [
    {
     "name": "stdout",
     "output_type": "stream",
     "text": [
      "Accuracy: 0.79\n",
      "Recall: 0.711\n",
      "Precision: 0.67\n",
      "F1: 0.69\n",
      "Auc: 0.77\n"
     ]
    }
   ],
   "source": [
    "print(f\"Accuracy: {round(accuracy_score(y_pred, y_test), 2)}\")\n",
    "print(f\"Recall: {round(recall_score(y_pred,y_test),3)}\")\n",
    "print(f\"Precision: {round(precision_score(y_pred,y_test), 2)}\")\n",
    "print(f\"F1: {round(f1_score(y_pred,y_test), 2)}\")\n",
    "print(f\"Auc: {round(roc_auc_score(y_pred,y_test), 2)}\")"
   ]
  },
  {
   "cell_type": "code",
   "execution_count": null,
   "id": "5b330f1d",
   "metadata": {
    "papermill": {
     "duration": 0.025102,
     "end_time": "2024-12-20T14:03:35.679724",
     "exception": false,
     "start_time": "2024-12-20T14:03:35.654622",
     "status": "completed"
    },
    "tags": []
   },
   "outputs": [],
   "source": []
  }
 ],
 "metadata": {
  "kaggle": {
   "accelerator": "none",
   "dataSources": [
    {
     "datasetId": 1098645,
     "sourceId": 1847406,
     "sourceType": "datasetVersion"
    }
   ],
   "dockerImageVersionId": 30822,
   "isGpuEnabled": false,
   "isInternetEnabled": true,
   "language": "python",
   "sourceType": "notebook"
  },
  "kernelspec": {
   "display_name": "Python 3",
   "language": "python",
   "name": "python3"
  },
  "language_info": {
   "codemirror_mode": {
    "name": "ipython",
    "version": 3
   },
   "file_extension": ".py",
   "mimetype": "text/x-python",
   "name": "python",
   "nbconvert_exporter": "python",
   "pygments_lexer": "ipython3",
   "version": "3.10.12"
  },
  "papermill": {
   "default_parameters": {},
   "duration": 13.970706,
   "end_time": "2024-12-20T14:03:36.424261",
   "environment_variables": {},
   "exception": null,
   "input_path": "__notebook__.ipynb",
   "output_path": "__notebook__.ipynb",
   "parameters": {},
   "start_time": "2024-12-20T14:03:22.453555",
   "version": "2.6.0"
  }
 },
 "nbformat": 4,
 "nbformat_minor": 5
}
