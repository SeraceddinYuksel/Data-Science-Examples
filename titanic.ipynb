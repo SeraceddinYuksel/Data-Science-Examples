{
 "cells": [
  {
   "cell_type": "code",
   "execution_count": 1,
   "id": "d17f98be",
   "metadata": {
    "_cell_guid": "b1076dfc-b9ad-4769-8c92-a6c4dae69d19",
    "_uuid": "8f2839f25d086af736a60e9eeb907d3b93b6e0e5",
    "execution": {
     "iopub.execute_input": "2024-12-18T06:59:30.448047Z",
     "iopub.status.busy": "2024-12-18T06:59:30.447639Z",
     "iopub.status.idle": "2024-12-18T06:59:33.424714Z",
     "shell.execute_reply": "2024-12-18T06:59:33.423341Z"
    },
    "papermill": {
     "duration": 2.98628,
     "end_time": "2024-12-18T06:59:33.428572",
     "exception": false,
     "start_time": "2024-12-18T06:59:30.442292",
     "status": "completed"
    },
    "tags": []
   },
   "outputs": [
    {
     "name": "stdout",
     "output_type": "stream",
     "text": [
      "/kaggle/input/titanic/train.csv\n",
      "/kaggle/input/titanic/test.csv\n",
      "/kaggle/input/titanic/gender_submission.csv\n"
     ]
    }
   ],
   "source": [
    "import numpy as np # linear algebra\n",
    "import pandas as pd # data processing, CSV file I/O (e.g. pd.read_csv)\n",
    "from sklearn.ensemble import RandomForestClassifier\n",
    "from sklearn.metrics import accuracy_score\n",
    "import pandas as pd\n",
    "import warnings\n",
    "warnings.filterwarnings(\"ignore\")\n",
    "import os\n",
    "for dirname, _, filenames in os.walk('/kaggle/input'):\n",
    "    for filename in filenames:\n",
    "        print(os.path.join(dirname, filename))"
   ]
  },
  {
   "cell_type": "code",
   "execution_count": 2,
   "id": "380c8aa4",
   "metadata": {
    "execution": {
     "iopub.execute_input": "2024-12-18T06:59:33.436988Z",
     "iopub.status.busy": "2024-12-18T06:59:33.436438Z",
     "iopub.status.idle": "2024-12-18T06:59:33.491879Z",
     "shell.execute_reply": "2024-12-18T06:59:33.490561Z"
    },
    "papermill": {
     "duration": 0.062206,
     "end_time": "2024-12-18T06:59:33.494240",
     "exception": false,
     "start_time": "2024-12-18T06:59:33.432034",
     "status": "completed"
    },
    "tags": []
   },
   "outputs": [
    {
     "data": {
      "text/html": [
       "<div>\n",
       "<style scoped>\n",
       "    .dataframe tbody tr th:only-of-type {\n",
       "        vertical-align: middle;\n",
       "    }\n",
       "\n",
       "    .dataframe tbody tr th {\n",
       "        vertical-align: top;\n",
       "    }\n",
       "\n",
       "    .dataframe thead th {\n",
       "        text-align: right;\n",
       "    }\n",
       "</style>\n",
       "<table border=\"1\" class=\"dataframe\">\n",
       "  <thead>\n",
       "    <tr style=\"text-align: right;\">\n",
       "      <th></th>\n",
       "      <th>PassengerId</th>\n",
       "      <th>Survived</th>\n",
       "      <th>Pclass</th>\n",
       "      <th>Name</th>\n",
       "      <th>Sex</th>\n",
       "      <th>Age</th>\n",
       "      <th>SibSp</th>\n",
       "      <th>Parch</th>\n",
       "      <th>Ticket</th>\n",
       "      <th>Fare</th>\n",
       "      <th>Cabin</th>\n",
       "      <th>Embarked</th>\n",
       "    </tr>\n",
       "  </thead>\n",
       "  <tbody>\n",
       "    <tr>\n",
       "      <th>0</th>\n",
       "      <td>1</td>\n",
       "      <td>0</td>\n",
       "      <td>3</td>\n",
       "      <td>Braund, Mr. Owen Harris</td>\n",
       "      <td>male</td>\n",
       "      <td>22.0</td>\n",
       "      <td>1</td>\n",
       "      <td>0</td>\n",
       "      <td>A/5 21171</td>\n",
       "      <td>7.2500</td>\n",
       "      <td>NaN</td>\n",
       "      <td>S</td>\n",
       "    </tr>\n",
       "    <tr>\n",
       "      <th>1</th>\n",
       "      <td>2</td>\n",
       "      <td>1</td>\n",
       "      <td>1</td>\n",
       "      <td>Cumings, Mrs. John Bradley (Florence Briggs Th...</td>\n",
       "      <td>female</td>\n",
       "      <td>38.0</td>\n",
       "      <td>1</td>\n",
       "      <td>0</td>\n",
       "      <td>PC 17599</td>\n",
       "      <td>71.2833</td>\n",
       "      <td>C85</td>\n",
       "      <td>C</td>\n",
       "    </tr>\n",
       "    <tr>\n",
       "      <th>2</th>\n",
       "      <td>3</td>\n",
       "      <td>1</td>\n",
       "      <td>3</td>\n",
       "      <td>Heikkinen, Miss. Laina</td>\n",
       "      <td>female</td>\n",
       "      <td>26.0</td>\n",
       "      <td>0</td>\n",
       "      <td>0</td>\n",
       "      <td>STON/O2. 3101282</td>\n",
       "      <td>7.9250</td>\n",
       "      <td>NaN</td>\n",
       "      <td>S</td>\n",
       "    </tr>\n",
       "    <tr>\n",
       "      <th>3</th>\n",
       "      <td>4</td>\n",
       "      <td>1</td>\n",
       "      <td>1</td>\n",
       "      <td>Futrelle, Mrs. Jacques Heath (Lily May Peel)</td>\n",
       "      <td>female</td>\n",
       "      <td>35.0</td>\n",
       "      <td>1</td>\n",
       "      <td>0</td>\n",
       "      <td>113803</td>\n",
       "      <td>53.1000</td>\n",
       "      <td>C123</td>\n",
       "      <td>S</td>\n",
       "    </tr>\n",
       "    <tr>\n",
       "      <th>4</th>\n",
       "      <td>5</td>\n",
       "      <td>0</td>\n",
       "      <td>3</td>\n",
       "      <td>Allen, Mr. William Henry</td>\n",
       "      <td>male</td>\n",
       "      <td>35.0</td>\n",
       "      <td>0</td>\n",
       "      <td>0</td>\n",
       "      <td>373450</td>\n",
       "      <td>8.0500</td>\n",
       "      <td>NaN</td>\n",
       "      <td>S</td>\n",
       "    </tr>\n",
       "  </tbody>\n",
       "</table>\n",
       "</div>"
      ],
      "text/plain": [
       "   PassengerId  Survived  Pclass  \\\n",
       "0            1         0       3   \n",
       "1            2         1       1   \n",
       "2            3         1       3   \n",
       "3            4         1       1   \n",
       "4            5         0       3   \n",
       "\n",
       "                                                Name     Sex   Age  SibSp  \\\n",
       "0                            Braund, Mr. Owen Harris    male  22.0      1   \n",
       "1  Cumings, Mrs. John Bradley (Florence Briggs Th...  female  38.0      1   \n",
       "2                             Heikkinen, Miss. Laina  female  26.0      0   \n",
       "3       Futrelle, Mrs. Jacques Heath (Lily May Peel)  female  35.0      1   \n",
       "4                           Allen, Mr. William Henry    male  35.0      0   \n",
       "\n",
       "   Parch            Ticket     Fare Cabin Embarked  \n",
       "0      0         A/5 21171   7.2500   NaN        S  \n",
       "1      0          PC 17599  71.2833   C85        C  \n",
       "2      0  STON/O2. 3101282   7.9250   NaN        S  \n",
       "3      0            113803  53.1000  C123        S  \n",
       "4      0            373450   8.0500   NaN        S  "
      ]
     },
     "execution_count": 2,
     "metadata": {},
     "output_type": "execute_result"
    }
   ],
   "source": [
    "train_data = pd.read_csv(\"/kaggle/input/titanic/train.csv\")\n",
    "train_data.head()"
   ]
  },
  {
   "cell_type": "code",
   "execution_count": 3,
   "id": "c3915be5",
   "metadata": {
    "execution": {
     "iopub.execute_input": "2024-12-18T06:59:33.503578Z",
     "iopub.status.busy": "2024-12-18T06:59:33.503099Z",
     "iopub.status.idle": "2024-12-18T06:59:33.525304Z",
     "shell.execute_reply": "2024-12-18T06:59:33.524098Z"
    },
    "papermill": {
     "duration": 0.030005,
     "end_time": "2024-12-18T06:59:33.527882",
     "exception": false,
     "start_time": "2024-12-18T06:59:33.497877",
     "status": "completed"
    },
    "tags": []
   },
   "outputs": [
    {
     "data": {
      "text/html": [
       "<div>\n",
       "<style scoped>\n",
       "    .dataframe tbody tr th:only-of-type {\n",
       "        vertical-align: middle;\n",
       "    }\n",
       "\n",
       "    .dataframe tbody tr th {\n",
       "        vertical-align: top;\n",
       "    }\n",
       "\n",
       "    .dataframe thead th {\n",
       "        text-align: right;\n",
       "    }\n",
       "</style>\n",
       "<table border=\"1\" class=\"dataframe\">\n",
       "  <thead>\n",
       "    <tr style=\"text-align: right;\">\n",
       "      <th></th>\n",
       "      <th>PassengerId</th>\n",
       "      <th>Pclass</th>\n",
       "      <th>Name</th>\n",
       "      <th>Sex</th>\n",
       "      <th>Age</th>\n",
       "      <th>SibSp</th>\n",
       "      <th>Parch</th>\n",
       "      <th>Ticket</th>\n",
       "      <th>Fare</th>\n",
       "      <th>Cabin</th>\n",
       "      <th>Embarked</th>\n",
       "    </tr>\n",
       "  </thead>\n",
       "  <tbody>\n",
       "    <tr>\n",
       "      <th>0</th>\n",
       "      <td>892</td>\n",
       "      <td>3</td>\n",
       "      <td>Kelly, Mr. James</td>\n",
       "      <td>male</td>\n",
       "      <td>34.5</td>\n",
       "      <td>0</td>\n",
       "      <td>0</td>\n",
       "      <td>330911</td>\n",
       "      <td>7.8292</td>\n",
       "      <td>NaN</td>\n",
       "      <td>Q</td>\n",
       "    </tr>\n",
       "    <tr>\n",
       "      <th>1</th>\n",
       "      <td>893</td>\n",
       "      <td>3</td>\n",
       "      <td>Wilkes, Mrs. James (Ellen Needs)</td>\n",
       "      <td>female</td>\n",
       "      <td>47.0</td>\n",
       "      <td>1</td>\n",
       "      <td>0</td>\n",
       "      <td>363272</td>\n",
       "      <td>7.0000</td>\n",
       "      <td>NaN</td>\n",
       "      <td>S</td>\n",
       "    </tr>\n",
       "    <tr>\n",
       "      <th>2</th>\n",
       "      <td>894</td>\n",
       "      <td>2</td>\n",
       "      <td>Myles, Mr. Thomas Francis</td>\n",
       "      <td>male</td>\n",
       "      <td>62.0</td>\n",
       "      <td>0</td>\n",
       "      <td>0</td>\n",
       "      <td>240276</td>\n",
       "      <td>9.6875</td>\n",
       "      <td>NaN</td>\n",
       "      <td>Q</td>\n",
       "    </tr>\n",
       "    <tr>\n",
       "      <th>3</th>\n",
       "      <td>895</td>\n",
       "      <td>3</td>\n",
       "      <td>Wirz, Mr. Albert</td>\n",
       "      <td>male</td>\n",
       "      <td>27.0</td>\n",
       "      <td>0</td>\n",
       "      <td>0</td>\n",
       "      <td>315154</td>\n",
       "      <td>8.6625</td>\n",
       "      <td>NaN</td>\n",
       "      <td>S</td>\n",
       "    </tr>\n",
       "    <tr>\n",
       "      <th>4</th>\n",
       "      <td>896</td>\n",
       "      <td>3</td>\n",
       "      <td>Hirvonen, Mrs. Alexander (Helga E Lindqvist)</td>\n",
       "      <td>female</td>\n",
       "      <td>22.0</td>\n",
       "      <td>1</td>\n",
       "      <td>1</td>\n",
       "      <td>3101298</td>\n",
       "      <td>12.2875</td>\n",
       "      <td>NaN</td>\n",
       "      <td>S</td>\n",
       "    </tr>\n",
       "  </tbody>\n",
       "</table>\n",
       "</div>"
      ],
      "text/plain": [
       "   PassengerId  Pclass                                          Name     Sex  \\\n",
       "0          892       3                              Kelly, Mr. James    male   \n",
       "1          893       3              Wilkes, Mrs. James (Ellen Needs)  female   \n",
       "2          894       2                     Myles, Mr. Thomas Francis    male   \n",
       "3          895       3                              Wirz, Mr. Albert    male   \n",
       "4          896       3  Hirvonen, Mrs. Alexander (Helga E Lindqvist)  female   \n",
       "\n",
       "    Age  SibSp  Parch   Ticket     Fare Cabin Embarked  \n",
       "0  34.5      0      0   330911   7.8292   NaN        Q  \n",
       "1  47.0      1      0   363272   7.0000   NaN        S  \n",
       "2  62.0      0      0   240276   9.6875   NaN        Q  \n",
       "3  27.0      0      0   315154   8.6625   NaN        S  \n",
       "4  22.0      1      1  3101298  12.2875   NaN        S  "
      ]
     },
     "execution_count": 3,
     "metadata": {},
     "output_type": "execute_result"
    }
   ],
   "source": [
    "test_data = pd.read_csv(\"/kaggle/input/titanic/test.csv\")\n",
    "test_data.head()"
   ]
  },
  {
   "cell_type": "code",
   "execution_count": 4,
   "id": "83f4f169",
   "metadata": {
    "execution": {
     "iopub.execute_input": "2024-12-18T06:59:33.537674Z",
     "iopub.status.busy": "2024-12-18T06:59:33.537166Z",
     "iopub.status.idle": "2024-12-18T06:59:33.551960Z",
     "shell.execute_reply": "2024-12-18T06:59:33.550449Z"
    },
    "papermill": {
     "duration": 0.022742,
     "end_time": "2024-12-18T06:59:33.554244",
     "exception": false,
     "start_time": "2024-12-18T06:59:33.531502",
     "status": "completed"
    },
    "tags": []
   },
   "outputs": [
    {
     "name": "stdout",
     "output_type": "stream",
     "text": [
      "% of women who survived: 0.7420382165605095\n"
     ]
    }
   ],
   "source": [
    "women = train_data.loc[train_data.Sex == 'female'][\"Survived\"]\n",
    "rate_women = sum(women)/len(women)\n",
    "\n",
    "print(\"% of women who survived:\", rate_women)"
   ]
  },
  {
   "cell_type": "code",
   "execution_count": 5,
   "id": "c649dc26",
   "metadata": {
    "execution": {
     "iopub.execute_input": "2024-12-18T06:59:33.564320Z",
     "iopub.status.busy": "2024-12-18T06:59:33.563945Z",
     "iopub.status.idle": "2024-12-18T06:59:33.572926Z",
     "shell.execute_reply": "2024-12-18T06:59:33.571575Z"
    },
    "papermill": {
     "duration": 0.016849,
     "end_time": "2024-12-18T06:59:33.575234",
     "exception": false,
     "start_time": "2024-12-18T06:59:33.558385",
     "status": "completed"
    },
    "tags": []
   },
   "outputs": [
    {
     "name": "stdout",
     "output_type": "stream",
     "text": [
      "% of men who survived: 0.18890814558058924\n"
     ]
    }
   ],
   "source": [
    "men = train_data.loc[train_data.Sex == 'male'][\"Survived\"]\n",
    "rate_men = sum(men)/len(men)\n",
    "\n",
    "print(\"% of men who survived:\", rate_men)"
   ]
  },
  {
   "cell_type": "code",
   "execution_count": 6,
   "id": "7859bae8",
   "metadata": {
    "execution": {
     "iopub.execute_input": "2024-12-18T06:59:33.587310Z",
     "iopub.status.busy": "2024-12-18T06:59:33.586911Z",
     "iopub.status.idle": "2024-12-18T06:59:33.612710Z",
     "shell.execute_reply": "2024-12-18T06:59:33.610949Z"
    },
    "papermill": {
     "duration": 0.036714,
     "end_time": "2024-12-18T06:59:33.615755",
     "exception": false,
     "start_time": "2024-12-18T06:59:33.579041",
     "status": "completed"
    },
    "tags": []
   },
   "outputs": [],
   "source": [
    "train_data[\"Age\"].fillna(train_data[\"Age\"].median(), inplace=True)\n",
    "test_data[\"Age\"].fillna(test_data[\"Age\"].median(), inplace=True)\n",
    "train_data[\"Embarked\"].fillna(train_data[\"Embarked\"].mode()[0], inplace=True)\n",
    "test_data[\"Fare\"].fillna(test_data[\"Fare\"].median(), inplace=True)"
   ]
  },
  {
   "cell_type": "code",
   "execution_count": 7,
   "id": "94ce47ec",
   "metadata": {
    "execution": {
     "iopub.execute_input": "2024-12-18T06:59:33.626769Z",
     "iopub.status.busy": "2024-12-18T06:59:33.626273Z",
     "iopub.status.idle": "2024-12-18T06:59:33.650198Z",
     "shell.execute_reply": "2024-12-18T06:59:33.648726Z"
    },
    "papermill": {
     "duration": 0.033733,
     "end_time": "2024-12-18T06:59:33.653317",
     "exception": false,
     "start_time": "2024-12-18T06:59:33.619584",
     "status": "completed"
    },
    "tags": []
   },
   "outputs": [],
   "source": [
    "y = train_data[\"Survived\"]\n",
    "features = [\"Pclass\", \"Sex\", \"SibSp\", \"Parch\", \"Fare\", \"Age\", \"Embarked\"]\n",
    "X = pd.get_dummies(train_data[features])\n",
    "X_test = pd.get_dummies(test_data[features])"
   ]
  },
  {
   "cell_type": "code",
   "execution_count": 8,
   "id": "91ee0d54",
   "metadata": {
    "execution": {
     "iopub.execute_input": "2024-12-18T06:59:33.663995Z",
     "iopub.status.busy": "2024-12-18T06:59:33.663574Z",
     "iopub.status.idle": "2024-12-18T07:00:32.132023Z",
     "shell.execute_reply": "2024-12-18T07:00:32.130710Z"
    },
    "papermill": {
     "duration": 58.477311,
     "end_time": "2024-12-18T07:00:32.134748",
     "exception": false,
     "start_time": "2024-12-18T06:59:33.657437",
     "status": "completed"
    },
    "tags": []
   },
   "outputs": [
    {
     "name": "stdout",
     "output_type": "stream",
     "text": [
      "Fitting 3 folds for each of 54 candidates, totalling 162 fits\n",
      "[CV] END bootstrap=False, criterion=gini, max_features=1, min_samples_leaf=1, min_samples_split=2, n_estimators=100; total time=   0.2s\n",
      "[CV] END bootstrap=False, criterion=gini, max_features=1, min_samples_leaf=1, min_samples_split=2, n_estimators=100; total time=   0.2s\n",
      "[CV] END bootstrap=False, criterion=gini, max_features=1, min_samples_leaf=1, min_samples_split=2, n_estimators=100; total time=   0.2s\n",
      "[CV] END bootstrap=False, criterion=gini, max_features=1, min_samples_leaf=1, min_samples_split=2, n_estimators=300; total time=   0.5s\n",
      "[CV] END bootstrap=False, criterion=gini, max_features=1, min_samples_leaf=1, min_samples_split=2, n_estimators=300; total time=   0.5s\n",
      "[CV] END bootstrap=False, criterion=gini, max_features=1, min_samples_leaf=1, min_samples_split=2, n_estimators=300; total time=   0.5s\n",
      "[CV] END bootstrap=False, criterion=gini, max_features=1, min_samples_leaf=1, min_samples_split=3, n_estimators=100; total time=   0.2s\n",
      "[CV] END bootstrap=False, criterion=gini, max_features=1, min_samples_leaf=1, min_samples_split=3, n_estimators=100; total time=   0.2s\n",
      "[CV] END bootstrap=False, criterion=gini, max_features=1, min_samples_leaf=1, min_samples_split=3, n_estimators=100; total time=   0.2s\n",
      "[CV] END bootstrap=False, criterion=gini, max_features=1, min_samples_leaf=1, min_samples_split=3, n_estimators=300; total time=   0.5s\n",
      "[CV] END bootstrap=False, criterion=gini, max_features=1, min_samples_leaf=1, min_samples_split=3, n_estimators=300; total time=   0.5s\n",
      "[CV] END bootstrap=False, criterion=gini, max_features=1, min_samples_leaf=1, min_samples_split=3, n_estimators=300; total time=   0.5s\n",
      "[CV] END bootstrap=False, criterion=gini, max_features=1, min_samples_leaf=1, min_samples_split=10, n_estimators=100; total time=   0.1s\n",
      "[CV] END bootstrap=False, criterion=gini, max_features=1, min_samples_leaf=1, min_samples_split=10, n_estimators=100; total time=   0.2s\n",
      "[CV] END bootstrap=False, criterion=gini, max_features=1, min_samples_leaf=1, min_samples_split=10, n_estimators=100; total time=   0.2s\n",
      "[CV] END bootstrap=False, criterion=gini, max_features=1, min_samples_leaf=1, min_samples_split=10, n_estimators=300; total time=   0.4s\n",
      "[CV] END bootstrap=False, criterion=gini, max_features=1, min_samples_leaf=1, min_samples_split=10, n_estimators=300; total time=   0.5s\n",
      "[CV] END bootstrap=False, criterion=gini, max_features=1, min_samples_leaf=1, min_samples_split=10, n_estimators=300; total time=   0.5s\n",
      "[CV] END bootstrap=False, criterion=gini, max_features=1, min_samples_leaf=3, min_samples_split=2, n_estimators=100; total time=   0.1s\n",
      "[CV] END bootstrap=False, criterion=gini, max_features=1, min_samples_leaf=3, min_samples_split=2, n_estimators=100; total time=   0.1s\n",
      "[CV] END bootstrap=False, criterion=gini, max_features=1, min_samples_leaf=3, min_samples_split=2, n_estimators=100; total time=   0.1s\n",
      "[CV] END bootstrap=False, criterion=gini, max_features=1, min_samples_leaf=3, min_samples_split=2, n_estimators=300; total time=   0.4s\n",
      "[CV] END bootstrap=False, criterion=gini, max_features=1, min_samples_leaf=3, min_samples_split=2, n_estimators=300; total time=   0.4s\n",
      "[CV] END bootstrap=False, criterion=gini, max_features=1, min_samples_leaf=3, min_samples_split=2, n_estimators=300; total time=   0.4s\n",
      "[CV] END bootstrap=False, criterion=gini, max_features=1, min_samples_leaf=3, min_samples_split=3, n_estimators=100; total time=   0.1s\n",
      "[CV] END bootstrap=False, criterion=gini, max_features=1, min_samples_leaf=3, min_samples_split=3, n_estimators=100; total time=   0.2s\n",
      "[CV] END bootstrap=False, criterion=gini, max_features=1, min_samples_leaf=3, min_samples_split=3, n_estimators=100; total time=   0.2s\n",
      "[CV] END bootstrap=False, criterion=gini, max_features=1, min_samples_leaf=3, min_samples_split=3, n_estimators=300; total time=   0.4s\n",
      "[CV] END bootstrap=False, criterion=gini, max_features=1, min_samples_leaf=3, min_samples_split=3, n_estimators=300; total time=   0.5s\n",
      "[CV] END bootstrap=False, criterion=gini, max_features=1, min_samples_leaf=3, min_samples_split=3, n_estimators=300; total time=   0.4s\n",
      "[CV] END bootstrap=False, criterion=gini, max_features=1, min_samples_leaf=3, min_samples_split=10, n_estimators=100; total time=   0.2s\n",
      "[CV] END bootstrap=False, criterion=gini, max_features=1, min_samples_leaf=3, min_samples_split=10, n_estimators=100; total time=   0.2s\n",
      "[CV] END bootstrap=False, criterion=gini, max_features=1, min_samples_leaf=3, min_samples_split=10, n_estimators=100; total time=   0.2s\n",
      "[CV] END bootstrap=False, criterion=gini, max_features=1, min_samples_leaf=3, min_samples_split=10, n_estimators=300; total time=   0.4s\n",
      "[CV] END bootstrap=False, criterion=gini, max_features=1, min_samples_leaf=3, min_samples_split=10, n_estimators=300; total time=   0.4s\n",
      "[CV] END bootstrap=False, criterion=gini, max_features=1, min_samples_leaf=3, min_samples_split=10, n_estimators=300; total time=   0.4s\n",
      "[CV] END bootstrap=False, criterion=gini, max_features=1, min_samples_leaf=10, min_samples_split=2, n_estimators=100; total time=   0.1s\n",
      "[CV] END bootstrap=False, criterion=gini, max_features=1, min_samples_leaf=10, min_samples_split=2, n_estimators=100; total time=   0.1s\n",
      "[CV] END bootstrap=False, criterion=gini, max_features=1, min_samples_leaf=10, min_samples_split=2, n_estimators=100; total time=   0.1s\n",
      "[CV] END bootstrap=False, criterion=gini, max_features=1, min_samples_leaf=10, min_samples_split=2, n_estimators=300; total time=   0.4s\n",
      "[CV] END bootstrap=False, criterion=gini, max_features=1, min_samples_leaf=10, min_samples_split=2, n_estimators=300; total time=   0.4s\n",
      "[CV] END bootstrap=False, criterion=gini, max_features=1, min_samples_leaf=10, min_samples_split=2, n_estimators=300; total time=   0.4s\n",
      "[CV] END bootstrap=False, criterion=gini, max_features=1, min_samples_leaf=10, min_samples_split=3, n_estimators=100; total time=   0.1s\n",
      "[CV] END bootstrap=False, criterion=gini, max_features=1, min_samples_leaf=10, min_samples_split=3, n_estimators=100; total time=   0.1s\n",
      "[CV] END bootstrap=False, criterion=gini, max_features=1, min_samples_leaf=10, min_samples_split=3, n_estimators=100; total time=   0.1s\n",
      "[CV] END bootstrap=False, criterion=gini, max_features=1, min_samples_leaf=10, min_samples_split=3, n_estimators=300; total time=   0.4s\n",
      "[CV] END bootstrap=False, criterion=gini, max_features=1, min_samples_leaf=10, min_samples_split=3, n_estimators=300; total time=   0.4s\n",
      "[CV] END bootstrap=False, criterion=gini, max_features=1, min_samples_leaf=10, min_samples_split=3, n_estimators=300; total time=   0.4s\n",
      "[CV] END bootstrap=False, criterion=gini, max_features=1, min_samples_leaf=10, min_samples_split=10, n_estimators=100; total time=   0.1s\n",
      "[CV] END bootstrap=False, criterion=gini, max_features=1, min_samples_leaf=10, min_samples_split=10, n_estimators=100; total time=   0.1s\n",
      "[CV] END bootstrap=False, criterion=gini, max_features=1, min_samples_leaf=10, min_samples_split=10, n_estimators=100; total time=   0.1s\n",
      "[CV] END bootstrap=False, criterion=gini, max_features=1, min_samples_leaf=10, min_samples_split=10, n_estimators=300; total time=   0.4s\n",
      "[CV] END bootstrap=False, criterion=gini, max_features=1, min_samples_leaf=10, min_samples_split=10, n_estimators=300; total time=   0.4s\n",
      "[CV] END bootstrap=False, criterion=gini, max_features=1, min_samples_leaf=10, min_samples_split=10, n_estimators=300; total time=   0.4s\n",
      "[CV] END bootstrap=False, criterion=gini, max_features=3, min_samples_leaf=1, min_samples_split=2, n_estimators=100; total time=   0.2s\n",
      "[CV] END bootstrap=False, criterion=gini, max_features=3, min_samples_leaf=1, min_samples_split=2, n_estimators=100; total time=   0.2s\n",
      "[CV] END bootstrap=False, criterion=gini, max_features=3, min_samples_leaf=1, min_samples_split=2, n_estimators=100; total time=   0.2s\n",
      "[CV] END bootstrap=False, criterion=gini, max_features=3, min_samples_leaf=1, min_samples_split=2, n_estimators=300; total time=   0.5s\n",
      "[CV] END bootstrap=False, criterion=gini, max_features=3, min_samples_leaf=1, min_samples_split=2, n_estimators=300; total time=   0.5s\n",
      "[CV] END bootstrap=False, criterion=gini, max_features=3, min_samples_leaf=1, min_samples_split=2, n_estimators=300; total time=   0.5s\n",
      "[CV] END bootstrap=False, criterion=gini, max_features=3, min_samples_leaf=1, min_samples_split=3, n_estimators=100; total time=   0.2s\n",
      "[CV] END bootstrap=False, criterion=gini, max_features=3, min_samples_leaf=1, min_samples_split=3, n_estimators=100; total time=   0.2s\n",
      "[CV] END bootstrap=False, criterion=gini, max_features=3, min_samples_leaf=1, min_samples_split=3, n_estimators=100; total time=   0.2s\n",
      "[CV] END bootstrap=False, criterion=gini, max_features=3, min_samples_leaf=1, min_samples_split=3, n_estimators=300; total time=   0.5s\n",
      "[CV] END bootstrap=False, criterion=gini, max_features=3, min_samples_leaf=1, min_samples_split=3, n_estimators=300; total time=   0.5s\n",
      "[CV] END bootstrap=False, criterion=gini, max_features=3, min_samples_leaf=1, min_samples_split=3, n_estimators=300; total time=   0.5s\n",
      "[CV] END bootstrap=False, criterion=gini, max_features=3, min_samples_leaf=1, min_samples_split=10, n_estimators=100; total time=   0.2s\n",
      "[CV] END bootstrap=False, criterion=gini, max_features=3, min_samples_leaf=1, min_samples_split=10, n_estimators=100; total time=   0.2s\n",
      "[CV] END bootstrap=False, criterion=gini, max_features=3, min_samples_leaf=1, min_samples_split=10, n_estimators=100; total time=   0.2s\n",
      "[CV] END bootstrap=False, criterion=gini, max_features=3, min_samples_leaf=1, min_samples_split=10, n_estimators=300; total time=   0.5s\n",
      "[CV] END bootstrap=False, criterion=gini, max_features=3, min_samples_leaf=1, min_samples_split=10, n_estimators=300; total time=   0.5s\n",
      "[CV] END bootstrap=False, criterion=gini, max_features=3, min_samples_leaf=1, min_samples_split=10, n_estimators=300; total time=   0.5s\n",
      "[CV] END bootstrap=False, criterion=gini, max_features=3, min_samples_leaf=3, min_samples_split=2, n_estimators=100; total time=   0.2s\n",
      "[CV] END bootstrap=False, criterion=gini, max_features=3, min_samples_leaf=3, min_samples_split=2, n_estimators=100; total time=   0.2s\n",
      "[CV] END bootstrap=False, criterion=gini, max_features=3, min_samples_leaf=3, min_samples_split=2, n_estimators=100; total time=   0.2s\n",
      "[CV] END bootstrap=False, criterion=gini, max_features=3, min_samples_leaf=3, min_samples_split=2, n_estimators=300; total time=   0.5s\n",
      "[CV] END bootstrap=False, criterion=gini, max_features=3, min_samples_leaf=3, min_samples_split=2, n_estimators=300; total time=   0.5s\n",
      "[CV] END bootstrap=False, criterion=gini, max_features=3, min_samples_leaf=3, min_samples_split=2, n_estimators=300; total time=   0.5s\n",
      "[CV] END bootstrap=False, criterion=gini, max_features=3, min_samples_leaf=3, min_samples_split=3, n_estimators=100; total time=   0.2s\n",
      "[CV] END bootstrap=False, criterion=gini, max_features=3, min_samples_leaf=3, min_samples_split=3, n_estimators=100; total time=   0.2s\n",
      "[CV] END bootstrap=False, criterion=gini, max_features=3, min_samples_leaf=3, min_samples_split=3, n_estimators=100; total time=   0.2s\n",
      "[CV] END bootstrap=False, criterion=gini, max_features=3, min_samples_leaf=3, min_samples_split=3, n_estimators=300; total time=   0.5s\n",
      "[CV] END bootstrap=False, criterion=gini, max_features=3, min_samples_leaf=3, min_samples_split=3, n_estimators=300; total time=   0.5s\n",
      "[CV] END bootstrap=False, criterion=gini, max_features=3, min_samples_leaf=3, min_samples_split=3, n_estimators=300; total time=   0.5s\n",
      "[CV] END bootstrap=False, criterion=gini, max_features=3, min_samples_leaf=3, min_samples_split=10, n_estimators=100; total time=   0.2s\n",
      "[CV] END bootstrap=False, criterion=gini, max_features=3, min_samples_leaf=3, min_samples_split=10, n_estimators=100; total time=   0.2s\n",
      "[CV] END bootstrap=False, criterion=gini, max_features=3, min_samples_leaf=3, min_samples_split=10, n_estimators=100; total time=   0.2s\n",
      "[CV] END bootstrap=False, criterion=gini, max_features=3, min_samples_leaf=3, min_samples_split=10, n_estimators=300; total time=   0.8s\n",
      "[CV] END bootstrap=False, criterion=gini, max_features=3, min_samples_leaf=3, min_samples_split=10, n_estimators=300; total time=   0.8s\n",
      "[CV] END bootstrap=False, criterion=gini, max_features=3, min_samples_leaf=3, min_samples_split=10, n_estimators=300; total time=   0.7s\n",
      "[CV] END bootstrap=False, criterion=gini, max_features=3, min_samples_leaf=10, min_samples_split=2, n_estimators=100; total time=   0.2s\n",
      "[CV] END bootstrap=False, criterion=gini, max_features=3, min_samples_leaf=10, min_samples_split=2, n_estimators=100; total time=   0.2s\n",
      "[CV] END bootstrap=False, criterion=gini, max_features=3, min_samples_leaf=10, min_samples_split=2, n_estimators=100; total time=   0.2s\n",
      "[CV] END bootstrap=False, criterion=gini, max_features=3, min_samples_leaf=10, min_samples_split=2, n_estimators=300; total time=   0.6s\n",
      "[CV] END bootstrap=False, criterion=gini, max_features=3, min_samples_leaf=10, min_samples_split=2, n_estimators=300; total time=   0.5s\n",
      "[CV] END bootstrap=False, criterion=gini, max_features=3, min_samples_leaf=10, min_samples_split=2, n_estimators=300; total time=   0.5s\n",
      "[CV] END bootstrap=False, criterion=gini, max_features=3, min_samples_leaf=10, min_samples_split=3, n_estimators=100; total time=   0.2s\n",
      "[CV] END bootstrap=False, criterion=gini, max_features=3, min_samples_leaf=10, min_samples_split=3, n_estimators=100; total time=   0.2s\n",
      "[CV] END bootstrap=False, criterion=gini, max_features=3, min_samples_leaf=10, min_samples_split=3, n_estimators=100; total time=   0.2s\n",
      "[CV] END bootstrap=False, criterion=gini, max_features=3, min_samples_leaf=10, min_samples_split=3, n_estimators=300; total time=   0.4s\n",
      "[CV] END bootstrap=False, criterion=gini, max_features=3, min_samples_leaf=10, min_samples_split=3, n_estimators=300; total time=   0.5s\n",
      "[CV] END bootstrap=False, criterion=gini, max_features=3, min_samples_leaf=10, min_samples_split=3, n_estimators=300; total time=   0.4s\n",
      "[CV] END bootstrap=False, criterion=gini, max_features=3, min_samples_leaf=10, min_samples_split=10, n_estimators=100; total time=   0.1s\n",
      "[CV] END bootstrap=False, criterion=gini, max_features=3, min_samples_leaf=10, min_samples_split=10, n_estimators=100; total time=   0.2s\n",
      "[CV] END bootstrap=False, criterion=gini, max_features=3, min_samples_leaf=10, min_samples_split=10, n_estimators=100; total time=   0.2s\n",
      "[CV] END bootstrap=False, criterion=gini, max_features=3, min_samples_leaf=10, min_samples_split=10, n_estimators=300; total time=   0.5s\n",
      "[CV] END bootstrap=False, criterion=gini, max_features=3, min_samples_leaf=10, min_samples_split=10, n_estimators=300; total time=   0.4s\n",
      "[CV] END bootstrap=False, criterion=gini, max_features=3, min_samples_leaf=10, min_samples_split=10, n_estimators=300; total time=   0.4s\n",
      "[CV] END bootstrap=False, criterion=gini, max_features=10, min_samples_leaf=1, min_samples_split=2, n_estimators=100; total time=   0.2s\n",
      "[CV] END bootstrap=False, criterion=gini, max_features=10, min_samples_leaf=1, min_samples_split=2, n_estimators=100; total time=   0.3s\n",
      "[CV] END bootstrap=False, criterion=gini, max_features=10, min_samples_leaf=1, min_samples_split=2, n_estimators=100; total time=   0.3s\n",
      "[CV] END bootstrap=False, criterion=gini, max_features=10, min_samples_leaf=1, min_samples_split=2, n_estimators=300; total time=   0.7s\n",
      "[CV] END bootstrap=False, criterion=gini, max_features=10, min_samples_leaf=1, min_samples_split=2, n_estimators=300; total time=   0.7s\n",
      "[CV] END bootstrap=False, criterion=gini, max_features=10, min_samples_leaf=1, min_samples_split=2, n_estimators=300; total time=   0.7s\n",
      "[CV] END bootstrap=False, criterion=gini, max_features=10, min_samples_leaf=1, min_samples_split=3, n_estimators=100; total time=   0.2s\n",
      "[CV] END bootstrap=False, criterion=gini, max_features=10, min_samples_leaf=1, min_samples_split=3, n_estimators=100; total time=   0.3s\n",
      "[CV] END bootstrap=False, criterion=gini, max_features=10, min_samples_leaf=1, min_samples_split=3, n_estimators=100; total time=   0.3s\n",
      "[CV] END bootstrap=False, criterion=gini, max_features=10, min_samples_leaf=1, min_samples_split=3, n_estimators=300; total time=   0.7s\n",
      "[CV] END bootstrap=False, criterion=gini, max_features=10, min_samples_leaf=1, min_samples_split=3, n_estimators=300; total time=   0.8s\n",
      "[CV] END bootstrap=False, criterion=gini, max_features=10, min_samples_leaf=1, min_samples_split=3, n_estimators=300; total time=   0.7s\n",
      "[CV] END bootstrap=False, criterion=gini, max_features=10, min_samples_leaf=1, min_samples_split=10, n_estimators=100; total time=   0.2s\n",
      "[CV] END bootstrap=False, criterion=gini, max_features=10, min_samples_leaf=1, min_samples_split=10, n_estimators=100; total time=   0.2s\n",
      "[CV] END bootstrap=False, criterion=gini, max_features=10, min_samples_leaf=1, min_samples_split=10, n_estimators=100; total time=   0.2s\n",
      "[CV] END bootstrap=False, criterion=gini, max_features=10, min_samples_leaf=1, min_samples_split=10, n_estimators=300; total time=   0.7s\n",
      "[CV] END bootstrap=False, criterion=gini, max_features=10, min_samples_leaf=1, min_samples_split=10, n_estimators=300; total time=   0.7s\n",
      "[CV] END bootstrap=False, criterion=gini, max_features=10, min_samples_leaf=1, min_samples_split=10, n_estimators=300; total time=   0.7s\n",
      "[CV] END bootstrap=False, criterion=gini, max_features=10, min_samples_leaf=3, min_samples_split=2, n_estimators=100; total time=   0.2s\n",
      "[CV] END bootstrap=False, criterion=gini, max_features=10, min_samples_leaf=3, min_samples_split=2, n_estimators=100; total time=   0.3s\n",
      "[CV] END bootstrap=False, criterion=gini, max_features=10, min_samples_leaf=3, min_samples_split=2, n_estimators=100; total time=   0.2s\n",
      "[CV] END bootstrap=False, criterion=gini, max_features=10, min_samples_leaf=3, min_samples_split=2, n_estimators=300; total time=   0.6s\n",
      "[CV] END bootstrap=False, criterion=gini, max_features=10, min_samples_leaf=3, min_samples_split=2, n_estimators=300; total time=   0.7s\n",
      "[CV] END bootstrap=False, criterion=gini, max_features=10, min_samples_leaf=3, min_samples_split=2, n_estimators=300; total time=   0.7s\n",
      "[CV] END bootstrap=False, criterion=gini, max_features=10, min_samples_leaf=3, min_samples_split=3, n_estimators=100; total time=   0.2s\n",
      "[CV] END bootstrap=False, criterion=gini, max_features=10, min_samples_leaf=3, min_samples_split=3, n_estimators=100; total time=   0.2s\n",
      "[CV] END bootstrap=False, criterion=gini, max_features=10, min_samples_leaf=3, min_samples_split=3, n_estimators=100; total time=   0.2s\n",
      "[CV] END bootstrap=False, criterion=gini, max_features=10, min_samples_leaf=3, min_samples_split=3, n_estimators=300; total time=   0.6s\n",
      "[CV] END bootstrap=False, criterion=gini, max_features=10, min_samples_leaf=3, min_samples_split=3, n_estimators=300; total time=   0.7s\n",
      "[CV] END bootstrap=False, criterion=gini, max_features=10, min_samples_leaf=3, min_samples_split=3, n_estimators=300; total time=   0.7s\n",
      "[CV] END bootstrap=False, criterion=gini, max_features=10, min_samples_leaf=3, min_samples_split=10, n_estimators=100; total time=   0.2s\n",
      "[CV] END bootstrap=False, criterion=gini, max_features=10, min_samples_leaf=3, min_samples_split=10, n_estimators=100; total time=   0.2s\n",
      "[CV] END bootstrap=False, criterion=gini, max_features=10, min_samples_leaf=3, min_samples_split=10, n_estimators=100; total time=   0.2s\n",
      "[CV] END bootstrap=False, criterion=gini, max_features=10, min_samples_leaf=3, min_samples_split=10, n_estimators=300; total time=   0.6s\n",
      "[CV] END bootstrap=False, criterion=gini, max_features=10, min_samples_leaf=3, min_samples_split=10, n_estimators=300; total time=   0.7s\n",
      "[CV] END bootstrap=False, criterion=gini, max_features=10, min_samples_leaf=3, min_samples_split=10, n_estimators=300; total time=   0.6s\n",
      "[CV] END bootstrap=False, criterion=gini, max_features=10, min_samples_leaf=10, min_samples_split=2, n_estimators=100; total time=   0.2s\n",
      "[CV] END bootstrap=False, criterion=gini, max_features=10, min_samples_leaf=10, min_samples_split=2, n_estimators=100; total time=   0.2s\n",
      "[CV] END bootstrap=False, criterion=gini, max_features=10, min_samples_leaf=10, min_samples_split=2, n_estimators=100; total time=   0.2s\n",
      "[CV] END bootstrap=False, criterion=gini, max_features=10, min_samples_leaf=10, min_samples_split=2, n_estimators=300; total time=   0.6s\n",
      "[CV] END bootstrap=False, criterion=gini, max_features=10, min_samples_leaf=10, min_samples_split=2, n_estimators=300; total time=   0.6s\n",
      "[CV] END bootstrap=False, criterion=gini, max_features=10, min_samples_leaf=10, min_samples_split=2, n_estimators=300; total time=   0.6s\n",
      "[CV] END bootstrap=False, criterion=gini, max_features=10, min_samples_leaf=10, min_samples_split=3, n_estimators=100; total time=   0.2s\n",
      "[CV] END bootstrap=False, criterion=gini, max_features=10, min_samples_leaf=10, min_samples_split=3, n_estimators=100; total time=   0.2s\n",
      "[CV] END bootstrap=False, criterion=gini, max_features=10, min_samples_leaf=10, min_samples_split=3, n_estimators=100; total time=   0.2s\n",
      "[CV] END bootstrap=False, criterion=gini, max_features=10, min_samples_leaf=10, min_samples_split=3, n_estimators=300; total time=   0.6s\n",
      "[CV] END bootstrap=False, criterion=gini, max_features=10, min_samples_leaf=10, min_samples_split=3, n_estimators=300; total time=   0.6s\n",
      "[CV] END bootstrap=False, criterion=gini, max_features=10, min_samples_leaf=10, min_samples_split=3, n_estimators=300; total time=   0.6s\n",
      "[CV] END bootstrap=False, criterion=gini, max_features=10, min_samples_leaf=10, min_samples_split=10, n_estimators=100; total time=   0.2s\n",
      "[CV] END bootstrap=False, criterion=gini, max_features=10, min_samples_leaf=10, min_samples_split=10, n_estimators=100; total time=   0.2s\n",
      "[CV] END bootstrap=False, criterion=gini, max_features=10, min_samples_leaf=10, min_samples_split=10, n_estimators=100; total time=   0.2s\n",
      "[CV] END bootstrap=False, criterion=gini, max_features=10, min_samples_leaf=10, min_samples_split=10, n_estimators=300; total time=   0.6s\n",
      "[CV] END bootstrap=False, criterion=gini, max_features=10, min_samples_leaf=10, min_samples_split=10, n_estimators=300; total time=   0.6s\n",
      "[CV] END bootstrap=False, criterion=gini, max_features=10, min_samples_leaf=10, min_samples_split=10, n_estimators=300; total time=   0.6s\n"
     ]
    }
   ],
   "source": [
    "from sklearn.model_selection import GridSearchCV\n",
    "\n",
    "# Parametre grid'i\n",
    "param_grid = {\"max_features\": [1,3,10],\n",
    "              \"min_samples_split\":[2,3,10],\n",
    "              \"min_samples_leaf\":[1,3,10],\n",
    "              \"bootstrap\":[False],\n",
    "              \"n_estimators\":[100,300],\n",
    "              \"criterion\":[\"gini\"]}\n",
    "\n",
    "# GridSearchCV\n",
    "grid_search = GridSearchCV(estimator=RandomForestClassifier(random_state=1),\n",
    "                           param_grid=param_grid,\n",
    "                           cv=3, scoring='accuracy', verbose=2)\n",
    "grid_search.fit(X, y)\n",
    "\n",
    "# En iyi parametrelerle modeli eğit\n",
    "model = grid_search.best_estimator_"
   ]
  },
  {
   "cell_type": "code",
   "execution_count": 9,
   "id": "2c3a32b0",
   "metadata": {
    "execution": {
     "iopub.execute_input": "2024-12-18T07:00:32.157136Z",
     "iopub.status.busy": "2024-12-18T07:00:32.156778Z",
     "iopub.status.idle": "2024-12-18T07:00:32.200118Z",
     "shell.execute_reply": "2024-12-18T07:00:32.198744Z"
    },
    "papermill": {
     "duration": 0.057012,
     "end_time": "2024-12-18T07:00:32.202379",
     "exception": false,
     "start_time": "2024-12-18T07:00:32.145367",
     "status": "completed"
    },
    "tags": []
   },
   "outputs": [
    {
     "name": "stdout",
     "output_type": "stream",
     "text": [
      "Model Accuracy on Training Data: 0.9046015712682379\n",
      "Your submission was successfully saved!\n"
     ]
    }
   ],
   "source": [
    "\n",
    "missing_cols = set(X.columns) - set(X_test.columns)\n",
    "for col in missing_cols:\n",
    "    X_test[col] = 0\n",
    "X_test = X_test[X.columns]\n",
    "\n",
    "accuracy = model.score(X, y)\n",
    "print(\"Model Accuracy on Training Data:\", accuracy)\n",
    "\n",
    "predictions = model.predict(X_test)\n",
    "\n",
    "output = pd.DataFrame({'PassengerId': test_data.PassengerId, 'Survived': predictions})\n",
    "output.to_csv('submission.csv', index=False)\n",
    "print(\"Your submission was successfully saved!\")"
   ]
  },
  {
   "cell_type": "code",
   "execution_count": null,
   "id": "0d456bdb",
   "metadata": {
    "papermill": {
     "duration": 0.009933,
     "end_time": "2024-12-18T07:00:32.222925",
     "exception": false,
     "start_time": "2024-12-18T07:00:32.212992",
     "status": "completed"
    },
    "tags": []
   },
   "outputs": [],
   "source": []
  }
 ],
 "metadata": {
  "kaggle": {
   "accelerator": "none",
   "dataSources": [
    {
     "databundleVersionId": 26502,
     "sourceId": 3136,
     "sourceType": "competition"
    }
   ],
   "dockerImageVersionId": 30804,
   "isGpuEnabled": false,
   "isInternetEnabled": true,
   "language": "python",
   "sourceType": "notebook"
  },
  "kernelspec": {
   "display_name": "Python 3",
   "language": "python",
   "name": "python3"
  },
  "language_info": {
   "codemirror_mode": {
    "name": "ipython",
    "version": 3
   },
   "file_extension": ".py",
   "mimetype": "text/x-python",
   "name": "python",
   "nbconvert_exporter": "python",
   "pygments_lexer": "ipython3",
   "version": "3.10.14"
  },
  "papermill": {
   "default_parameters": {},
   "duration": 65.217456,
   "end_time": "2024-12-18T07:00:32.854862",
   "environment_variables": {},
   "exception": null,
   "input_path": "__notebook__.ipynb",
   "output_path": "__notebook__.ipynb",
   "parameters": {},
   "start_time": "2024-12-18T06:59:27.637406",
   "version": "2.6.0"
  }
 },
 "nbformat": 4,
 "nbformat_minor": 5
}
